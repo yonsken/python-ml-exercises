{
 "metadata": {
  "language_info": {
   "codemirror_mode": {
    "name": "ipython",
    "version": 3
   },
   "file_extension": ".py",
   "mimetype": "text/x-python",
   "name": "python",
   "nbconvert_exporter": "python",
   "pygments_lexer": "ipython3",
   "version": "3.7.6-final"
  },
  "orig_nbformat": 2,
  "kernelspec": {
   "name": "python3",
   "display_name": "Python 3"
  }
 },
 "nbformat": 4,
 "nbformat_minor": 2,
 "cells": [
  {
   "cell_type": "markdown",
   "metadata": {},
   "source": [
    "# 1. Introducing sequential data\n",
    "## 1. Computing forward pass for a reccurent layer\n",
    "### 1. Create a reccurent layer from SimpleRNN"
   ]
  },
  {
   "cell_type": "code",
   "execution_count": 1,
   "metadata": {
    "tags": []
   },
   "outputs": [
    {
     "output_type": "stream",
     "name": "stdout",
     "text": "W_xh shape: (5, 2)\nW_oo shape: (2, 2)\nb_h shape: (2,)\n"
    }
   ],
   "source": [
    "import tensorflow as tf\n",
    "tf.random.set_seed(1)\n",
    "\n",
    "rnn_layer = tf.keras.layers.SimpleRNN(\n",
    "    units=2, use_bias=True, \n",
    "    return_sequences=True)\n",
    "rnn_layer.build(input_shape=(None, None, 5))\n",
    "\n",
    "w_xh, w_oo, b_h = rnn_layer.weights\n",
    "\n",
    "print('W_xh shape:', w_xh.shape)\n",
    "print('W_oo shape:', w_oo.shape)\n",
    "print('b_h shape:', b_h.shape)"
   ]
  },
  {
   "cell_type": "markdown",
   "metadata": {},
   "source": [
    "### 2. Compare the output results between passing the input through a reccurent layer and manual computation"
   ]
  },
  {
   "cell_type": "code",
   "execution_count": 2,
   "metadata": {
    "tags": []
   },
   "outputs": [
    {
     "output_type": "stream",
     "name": "stdout",
     "text": "Time step 0 =>\n   Input           : [[1. 1. 1. 1. 1.]]\n   Hidden          : [[0.41464037 0.96012145]]\n   Output (manual) : [[0.39240566 0.74433106]]\n   SimpleRNN output: [0.39240566 0.74433106]\n\nTime step 1 =>\n   Input           : [[2. 2. 2. 2. 2.]]\n   Hidden          : [[0.82928073 1.9202429 ]]\n   Output (manual) : [[0.80116504 0.9912947 ]]\n   SimpleRNN output: [0.80116504 0.9912947 ]\n\nTime step 2 =>\n   Input           : [[3. 3. 3. 3. 3.]]\n   Hidden          : [[1.243921  2.8803642]]\n   Output (manual) : [[0.95468265 0.9993069 ]]\n   SimpleRNN output: [0.95468265 0.9993069 ]\n\n"
    }
   ],
   "source": [
    "x_seq = tf.convert_to_tensor(\n",
    "    [[1.0]*5, [2.0]*5, [3.0]*5],\n",
    "    dtype=tf.float32)\n",
    "\n",
    "\n",
    "## output of SimepleRNN:\n",
    "output = rnn_layer(tf.reshape(x_seq, shape=(1, 3, 5)))\n",
    "\n",
    "## manually computing the output:\n",
    "out_man = []\n",
    "for t in range(len(x_seq)):\n",
    "    xt = tf.reshape(x_seq[t], (1, 5))\n",
    "    print('Time step {} =>'.format(t))\n",
    "    print('   Input           :', xt.numpy())\n",
    "    \n",
    "    ht = tf.matmul(xt, w_xh) + b_h    \n",
    "    print('   Hidden          :', ht.numpy())\n",
    "    \n",
    "    if t>0:\n",
    "        prev_o = out_man[t-1]\n",
    "    else:\n",
    "        prev_o = tf.zeros(shape=(ht.shape))\n",
    "        \n",
    "    ot = ht + tf.matmul(prev_o, w_oo)\n",
    "    ot = tf.math.tanh(ot)\n",
    "    out_man.append(ot)\n",
    "    print('   Output (manual) :', ot.numpy())\n",
    "    print('   SimpleRNN output:'.format(t), output[0][t].numpy())\n",
    "    print()"
   ]
  },
  {
   "cell_type": "markdown",
   "metadata": {},
   "source": [
    "# 2. Implementing RNNs for sequence modeling in TensorFlow\n",
    "## Basic imports"
   ]
  },
  {
   "cell_type": "code",
   "execution_count": 3,
   "metadata": {},
   "outputs": [],
   "source": [
    "import tensorflow as tf\n",
    "import tensorflow_datasets as tfds\n",
    "import numpy as np\n",
    "import pandas as pd"
   ]
  },
  {
   "cell_type": "markdown",
   "metadata": {},
   "source": [
    "## 1. Project one: predicting the sentiment of IMDb movie reviews\n",
    "### 1. Load the dataset from a CSV file"
   ]
  },
  {
   "cell_type": "code",
   "execution_count": 4,
   "metadata": {},
   "outputs": [
    {
     "output_type": "execute_result",
     "data": {
      "text/plain": "                                                  review  sentiment\n49995  OK, lets start with the best. the building. al...          0\n49996  The British 'heritage film' industry is out of...          0\n49997  I don't even know where to begin on this one. ...          0\n49998  Richard Tyler is a little boy who is scared of...          0\n49999  I waited long to watch this movie. Also becaus...          1",
      "text/html": "<div>\n<style scoped>\n    .dataframe tbody tr th:only-of-type {\n        vertical-align: middle;\n    }\n\n    .dataframe tbody tr th {\n        vertical-align: top;\n    }\n\n    .dataframe thead th {\n        text-align: right;\n    }\n</style>\n<table border=\"1\" class=\"dataframe\">\n  <thead>\n    <tr style=\"text-align: right;\">\n      <th></th>\n      <th>review</th>\n      <th>sentiment</th>\n    </tr>\n  </thead>\n  <tbody>\n    <tr>\n      <th>49995</th>\n      <td>OK, lets start with the best. the building. al...</td>\n      <td>0</td>\n    </tr>\n    <tr>\n      <th>49996</th>\n      <td>The British 'heritage film' industry is out of...</td>\n      <td>0</td>\n    </tr>\n    <tr>\n      <th>49997</th>\n      <td>I don't even know where to begin on this one. ...</td>\n      <td>0</td>\n    </tr>\n    <tr>\n      <th>49998</th>\n      <td>Richard Tyler is a little boy who is scared of...</td>\n      <td>0</td>\n    </tr>\n    <tr>\n      <th>49999</th>\n      <td>I waited long to watch this movie. Also becaus...</td>\n      <td>1</td>\n    </tr>\n  </tbody>\n</table>\n</div>"
     },
     "metadata": {},
     "execution_count": 4
    }
   ],
   "source": [
    "df = pd.read_csv('data/movie_data.csv', encoding='utf-8')\n",
    "\n",
    "df.tail()"
   ]
  },
  {
   "cell_type": "markdown",
   "metadata": {},
   "source": [
    "### 2. Create a TensorFlow dataset object"
   ]
  },
  {
   "cell_type": "code",
   "execution_count": 5,
   "metadata": {
    "tags": []
   },
   "outputs": [
    {
     "output_type": "stream",
     "name": "stdout",
     "text": "b'In 1974, the teenager Martha Moxley (Maggie Grace)' 1\nb'OK... so... I really like Kris Kristofferson and h' 0\nb'***SPOILER*** Do not read this, if you think about' 0\n"
    }
   ],
   "source": [
    "# Step 1: Create a dataset\n",
    "\n",
    "target = df.pop('sentiment')\n",
    "\n",
    "ds_raw = tf.data.Dataset.from_tensor_slices(\n",
    "    (df.values, target.values))\n",
    "\n",
    "## inspection:\n",
    "for ex in ds_raw.take(3):\n",
    "    tf.print(ex[0].numpy()[0][:50], ex[1])"
   ]
  },
  {
   "cell_type": "markdown",
   "metadata": {},
   "source": [
    "### 3. Train/validaiton/test split"
   ]
  },
  {
   "cell_type": "code",
   "execution_count": 6,
   "metadata": {},
   "outputs": [],
   "source": [
    "tf.random.set_seed(1)\n",
    "\n",
    "ds_raw = ds_raw.shuffle(\n",
    "    50000, reshuffle_each_iteration=False)\n",
    "\n",
    "ds_raw_test = ds_raw.take(25000)\n",
    "ds_raw_train_valid = ds_raw.skip(25000)\n",
    "ds_raw_train = ds_raw_train_valid.take(20000)\n",
    "ds_raw_valid = ds_raw_train_valid.skip(20000)"
   ]
  },
  {
   "cell_type": "markdown",
   "metadata": {},
   "source": [
    "### 4. Find unique tokens (words)"
   ]
  },
  {
   "cell_type": "code",
   "execution_count": 7,
   "metadata": {
    "tags": []
   },
   "outputs": [
    {
     "output_type": "stream",
     "name": "stdout",
     "text": "Vocab-size: 87007\n"
    }
   ],
   "source": [
    "## Step 2: find unique tokens (words)\n",
    "\n",
    "from collections import Counter\n",
    "\n",
    "tokenizer = tfds.features.text.Tokenizer()\n",
    "token_counts = Counter()\n",
    "\n",
    "for example in ds_raw_train:\n",
    "    tokens = tokenizer.tokenize(example[0].numpy()[0])\n",
    "    token_counts.update(tokens)\n",
    "    \n",
    "print('Vocab-size:', len(token_counts))"
   ]
  },
  {
   "cell_type": "markdown",
   "metadata": {},
   "source": [
    "### 5. Encode each unique token into integers"
   ]
  },
  {
   "cell_type": "code",
   "execution_count": 8,
   "metadata": {},
   "outputs": [
    {
     "output_type": "execute_result",
     "data": {
      "text/plain": "[232, 9, 270, 1123]"
     },
     "metadata": {},
     "execution_count": 8
    }
   ],
   "source": [
    "## Step 3: encoding each unique token into integers\n",
    "\n",
    "encoder = tfds.features.text.TokenTextEncoder(token_counts)\n",
    "\n",
    "example_str = 'This is an example!'\n",
    "encoder.encode(example_str)"
   ]
  },
  {
   "cell_type": "markdown",
   "metadata": {},
   "source": [
    "### 6.1. Define a mapping function that will treat the input tensors as if the eager execution mode is enabled\n",
    "- Here, the text data is enclosed in tensor objects, which we can access by calling the numpy() method on a tensor in the eager execution model\n",
    "- The issue is that during transformations by the map() method, the eager execution will be disabled\n",
    "- We solve that by defining 2 functions:"
   ]
  },
  {
   "cell_type": "code",
   "execution_count": 9,
   "metadata": {},
   "outputs": [],
   "source": [
    "## Step 3-A: define the function for transformation\n",
    "\n",
    "def encode(text_tensor, label):\n",
    "    text = text_tensor.numpy()[0]\n",
    "    encoded_text = encoder.encode(text)\n",
    "    return encoded_text, label\n",
    "\n",
    "## Step 3-B: wrap the encode function to a TF Op.\n",
    "def encode_map_fn(text, label):\n",
    "    return tf.py_function(encode, inp=[text, label], \n",
    "                          Tout=(tf.int64, tf.int64))"
   ]
  },
  {
   "cell_type": "markdown",
   "metadata": {},
   "source": [
    "### 6.2. Define a function that will wrap the first function using tf.py_function to convert it into a TensorFlow operator\n",
    "- A TensorFlow operator can be used via its map() method"
   ]
  },
  {
   "cell_type": "code",
   "execution_count": 10,
   "metadata": {
    "tags": []
   },
   "outputs": [
    {
     "output_type": "stream",
     "name": "stdout",
     "text": "Sequence length: (24,)\nSequence length: (179,)\nSequence length: (262,)\nSequence length: (535,)\nSequence length: (130,)\n"
    },
    {
     "output_type": "execute_result",
     "data": {
      "text/plain": "(<tf.Tensor: id=43302, shape=(130,), dtype=int64, numpy=\n array([  579,  1296,    32,   425,    40,   763,  9267,    65,   280,\n          308,     6,   481,   155,   473,     2,     3,   684,     9,\n          781,   176,   959,   730,  3917,    67,  9905,    13,   277,\n           24,    35,   371, 16368,     6,    14, 17231,    29,   187,\n         1651,   489,   503,   480,   143,    32,   270,  5851,  2402,\n           13,  3592,  3443,   425,  3313,   256,   257,  1577,   117,\n            8,   698,   270,   564,    56,     8,    42,  7517,  2629,\n          820,    25,    60,    79,   343,    32,   645,    14,   528,\n          241,    32,  1980,     8,    56,     8,    42,  1364,   573,\n         5183,    43,    12,  3870,    32,   312,   642,   251,  1401,\n        17232,     8,   698,   257,   750,     2,     9,    76,   235,\n            8,    42,   235,   840,   666,   258, 17233,   419,    32,\n        17234,   585,   420,   840,    25,    40,    13,    14,   198,\n          266,   623,   173,   179,  4103,   216,    25,   616, 14185,\n          186,    35, 16250,   120], dtype=int64)>,\n <tf.Tensor: id=43303, shape=(), dtype=int64, numpy=0>)"
     },
     "metadata": {},
     "execution_count": 10
    }
   ],
   "source": [
    "ds_train = ds_raw_train.map(encode_map_fn)\n",
    "ds_valid = ds_raw_valid.map(encode_map_fn)\n",
    "ds_test = ds_raw_test.map(encode_map_fn)\n",
    "\n",
    "tf.random.set_seed(1)\n",
    "for example in ds_train.shuffle(1000).take(5):\n",
    "    print('Sequence length:', example[0].shape)\n",
    "    \n",
    "example"
   ]
  },
  {
   "cell_type": "markdown",
   "metadata": {},
   "source": [
    "### 7. Use padded_batch() to make all sequences within a batch to have the same shape\n",
    "- padded_batch() will automatically pad the consecutive elements that are to be combined into a batch with placeholder values (0s), which is necessary to store them efficiently in a tensor"
   ]
  },
  {
   "cell_type": "code",
   "execution_count": 11,
   "metadata": {
    "tags": []
   },
   "outputs": [
    {
     "output_type": "stream",
     "name": "stdout",
     "text": "Individual size: (119,)\nIndividual size: (688,)\nIndividual size: (308,)\nIndividual size: (204,)\nIndividual size: (326,)\nIndividual size: (240,)\nIndividual size: (127,)\nIndividual size: (453,)\nBatch dimension: (4, 688)\nBatch dimension: (4, 453)\n"
    }
   ],
   "source": [
    "## Take a small subset\n",
    "\n",
    "ds_subset = ds_train.take(8)\n",
    "for example in ds_subset:\n",
    "    print('Individual size:', example[0].shape)\n",
    "\n",
    "## batching the datasets\n",
    "ds_batched = ds_subset.padded_batch(\n",
    "    4, padded_shapes=([-1], []))\n",
    "\n",
    "for batch in ds_batched:\n",
    "    print('Batch dimension:', batch[0].shape)"
   ]
  },
  {
   "cell_type": "markdown",
   "metadata": {},
   "source": [
    "### 8. Divide all three datasets into mini-batches with a batch size of 32"
   ]
  },
  {
   "cell_type": "code",
   "execution_count": 12,
   "metadata": {},
   "outputs": [],
   "source": [
    "## batching the datasets\n",
    "train_data = ds_train.padded_batch(\n",
    "    32, padded_shapes=([-1],[]))\n",
    "\n",
    "valid_data = ds_valid.padded_batch(\n",
    "    32, padded_shapes=([-1],[]))\n",
    "\n",
    "test_data = ds_test.padded_batch(\n",
    "    32, padded_shapes=([-1],[]))"
   ]
  },
  {
   "cell_type": "markdown",
   "metadata": {},
   "source": [
    "## 2. Embedding layers for sentence encoding\n",
    "\n",
    " * `input_dim`: number of words, i.e. maximum integer index + 1.\n",
    " * `output_dim`: \n",
    " * `input_length`: the length of (padded) sequence\n",
    "    * for example, `'This is an example' -> [0, 0, 0, 0, 0, 0, 3, 1, 8, 9]`   \n",
    "    => input_lenght is 10\n",
    " \n",
    " \n",
    "\n",
    " * When calling the layer, takes integr values as input,   \n",
    " the embedding layer convert each interger into float vector of size `[output_dim]`\n",
    "   * If input shape is `[BATCH_SIZE]`, output shape will be `[BATCH_SIZE, output_dim]`\n",
    "   * If input shape is `[BATCH_SIZE, 10]`, output shape will be `[BATCH_SIZE, 10, output_dim]`\n",
    "\n",
    "### 1. Creating an embedding layer"
   ]
  },
  {
   "cell_type": "code",
   "execution_count": 13,
   "metadata": {
    "tags": []
   },
   "outputs": [
    {
     "output_type": "stream",
     "name": "stdout",
     "text": "Model: \"sequential\"\n_________________________________________________________________\nLayer (type)                 Output Shape              Param #   \n=================================================================\nembed-layer (Embedding)      (None, 20, 6)             600       \n=================================================================\nTotal params: 600\nTrainable params: 600\nNon-trainable params: 0\n_________________________________________________________________\n"
    }
   ],
   "source": [
    "from tensorflow.keras.layers import Embedding\n",
    "\n",
    "\n",
    "model = tf.keras.Sequential()\n",
    "\n",
    "model.add(Embedding(input_dim=100,\n",
    "                    output_dim=6,\n",
    "                    input_length=20,\n",
    "                    name='embed-layer'))\n",
    "\n",
    "model.summary()"
   ]
  },
  {
   "cell_type": "markdown",
   "metadata": {},
   "source": [
    "## 3. Building an RNN model\n",
    "\n",
    "* **Keras RNN layers:**\n",
    "  * `tf.keras.layers.SimpleRNN(units, return_sequences=False)`\n",
    "  * `tf.keras.layers.LSTM(..)`\n",
    "  * `tf.keras.layers.GRU(..)`\n",
    "  * `tf.keras.layers.Bidirectional()`\n",
    " \n",
    "* **Determine `return_sequenes=?`**\n",
    "  * In a multi-layer RNN, all RNN layers except the last one should have `return_sequenes=True`\n",
    "  * For the last RNN layer, decide based on the type of problem: \n",
    "     * many-to-many: -> `return_sequences=True`\n",
    "     * many-to-one : -> `return_sequenes=False`\n",
    "     * ..\n",
    "\n",
    "### Example of a building a RNN model"
   ]
  },
  {
   "cell_type": "code",
   "execution_count": 17,
   "metadata": {
    "tags": []
   },
   "outputs": [
    {
     "output_type": "stream",
     "name": "stdout",
     "text": "Model: \"sequential_2\"\n_________________________________________________________________\nLayer (type)                 Output Shape              Param #   \n=================================================================\nembedding (Embedding)        (None, None, 32)          32000     \n_________________________________________________________________\nsimple_rnn_1 (SimpleRNN)     (None, None, 32)          2080      \n_________________________________________________________________\nsimple_rnn_2 (SimpleRNN)     (None, 32)                2080      \n_________________________________________________________________\ndense (Dense)                (None, 1)                 33        \n=================================================================\nTotal params: 36,193\nTrainable params: 36,193\nNon-trainable params: 0\n_________________________________________________________________\n"
    }
   ],
   "source": [
    "## An example of building a RNN model\n",
    "## with SimpleRNN layer\n",
    "\n",
    "from tensorflow.keras import Sequential\n",
    "from tensorflow.keras.layers import Embedding\n",
    "from tensorflow.keras.layers import SimpleRNN\n",
    "from tensorflow.keras.layers import Dense\n",
    "\n",
    "model = Sequential()\n",
    "model.add(Embedding(1000, 32))\n",
    "model.add(SimpleRNN(32, return_sequences=True))\n",
    "model.add(SimpleRNN(32))\n",
    "model.add(Dense(1))\n",
    "model.summary()"
   ]
  },
  {
   "cell_type": "markdown",
   "metadata": {},
   "source": [
    "### 1. Try a RNN model with a LSTM layer inside a Bidirectional wrapper\n",
    "- Bidirectional wrapper will make the recurrent layers pass through the input sequences from both directions"
   ]
  },
  {
   "cell_type": "code",
   "execution_count": 24,
   "metadata": {
    "tags": []
   },
   "outputs": [
    {
     "output_type": "stream",
     "name": "stdout",
     "text": "Model: \"sequential_2\"\n_________________________________________________________________\nLayer (type)                 Output Shape              Param #   \n=================================================================\nembed-layer (Embedding)      (None, None, 20)          1740180   \n_________________________________________________________________\nbidir-lstm (Bidirectional)   (None, 128)               43520     \n_________________________________________________________________\ndense_1 (Dense)              (None, 64)                8256      \n_________________________________________________________________\ndense_2 (Dense)              (None, 1)                 65        \n=================================================================\nTotal params: 1,792,021\nTrainable params: 1,792,021\nNon-trainable params: 0\n_________________________________________________________________\nEpoch 1/10\n625/625 [==============================] - 895s 1s/step - loss: 0.5346 - accuracy: 0.7164 - val_loss: 0.0000e+00 - val_accuracy: 0.0000e+00\nEpoch 2/10\n625/625 [==============================] - 880s 1s/step - loss: 0.2652 - accuracy: 0.8987 - val_loss: 0.3386 - val_accuracy: 0.8716\nEpoch 3/10\n625/625 [==============================] - 862s 1s/step - loss: 0.1615 - accuracy: 0.9441 - val_loss: 0.4056 - val_accuracy: 0.8674\nEpoch 4/10\n625/625 [==============================] - 907s 1s/step - loss: 0.0877 - accuracy: 0.9725 - val_loss: 0.5189 - val_accuracy: 0.8444\nEpoch 5/10\n625/625 [==============================] - 1064s 2s/step - loss: 0.0874 - accuracy: 0.9697 - val_loss: 0.5546 - val_accuracy: 0.8076\nEpoch 6/10\n625/625 [==============================] - 1010s 2s/step - loss: 0.0734 - accuracy: 0.9768 - val_loss: 0.5533 - val_accuracy: 0.8298\nEpoch 7/10\n625/625 [==============================] - 1067s 2s/step - loss: 0.0403 - accuracy: 0.9873 - val_loss: 0.6372 - val_accuracy: 0.8286\nEpoch 8/10\n625/625 [==============================] - 1140s 2s/step - loss: 0.0346 - accuracy: 0.9901 - val_loss: 0.6720 - val_accuracy: 0.8478\nEpoch 9/10\n625/625 [==============================] - 1084s 2s/step - loss: 0.0291 - accuracy: 0.9908 - val_loss: 0.7455 - val_accuracy: 0.8376\nEpoch 10/10\n625/625 [==============================] - 1070s 2s/step - loss: 0.0189 - accuracy: 0.9945 - val_loss: 0.7623 - val_accuracy: 0.8358\n782/782 [==============================] - 173s 221ms/step - loss: 0.7746 - accuracy: 0.8354\nTest Acc.: 83.54%\n"
    }
   ],
   "source": [
    "embedding_dim = 20\n",
    "vocab_size = len(token_counts) + 2\n",
    "\n",
    "tf.random.set_seed(1)\n",
    "\n",
    "## build the model\n",
    "bi_lstm_model = tf.keras.Sequential([\n",
    "    tf.keras.layers.Embedding(\n",
    "        input_dim=vocab_size,\n",
    "        output_dim=embedding_dim,\n",
    "        name='embed-layer'),\n",
    "    \n",
    "    tf.keras.layers.Bidirectional(\n",
    "        tf.keras.layers.LSTM(64, name='lstm-layer'),\n",
    "        name='bidir-lstm'), \n",
    "\n",
    "    tf.keras.layers.Dense(64, activation='relu'),\n",
    "    \n",
    "    tf.keras.layers.Dense(1, activation='sigmoid')\n",
    "])\n",
    "\n",
    "bi_lstm_model.summary()\n",
    "\n",
    "## compile and train:\n",
    "bi_lstm_model.compile(\n",
    "    optimizer=tf.keras.optimizers.Adam(1e-3),\n",
    "    loss=tf.keras.losses.BinaryCrossentropy(from_logits=False),\n",
    "    metrics=['accuracy'])\n",
    "\n",
    "history = bi_lstm_model.fit(\n",
    "    train_data, \n",
    "    validation_data=valid_data, \n",
    "    epochs=10)\n",
    "\n",
    "## evaluate on the test data\n",
    "test_results= bi_lstm_model.evaluate(test_data)\n",
    "print('Test Acc.: {:.2f}%'.format(test_results[1]*100))"
   ]
  },
  {
   "cell_type": "markdown",
   "metadata": {},
   "source": [
    "### 2. Save the model"
   ]
  },
  {
   "cell_type": "code",
   "execution_count": 25,
   "metadata": {},
   "outputs": [],
   "source": [
    "if not os.path.exists('models'):\n",
    "    os.mkdir('models')\n",
    "\n",
    "\n",
    "bi_lstm_model.save('models/Bidir-LSTM-full-length-seq.h5')"
   ]
  },
  {
   "cell_type": "markdown",
   "metadata": {},
   "source": [
    "### 3. Try a model with SimpleRNN layers with short sequences\n",
    "- If you try replacing the bidirectional LSTM layer in the previous code with a unidirectional SimpleRNN layer and train the model on full-length sequences, you may observe that the loss will not decrease during training\n",
    "- The reason is that the sequences in this dataset are too long, so a model with a SimpleRNN layer cannot learn the long-term dependencies and may suffer from vanishing or exploding gradient problems"
   ]
  },
  {
   "cell_type": "code",
   "execution_count": 14,
   "metadata": {},
   "outputs": [],
   "source": [
    "def preprocess_datasets(\n",
    "    ds_raw_train, \n",
    "    ds_raw_valid, \n",
    "    ds_raw_test,\n",
    "    max_seq_length=None,\n",
    "    batch_size=32):\n",
    "    \n",
    "    ## Step 1: (already done => creating a dataset)\n",
    "    ## Step 2: find unique tokens\n",
    "    tokenizer = tfds.features.text.Tokenizer()\n",
    "    token_counts = Counter()\n",
    "\n",
    "    for example in ds_raw_train:\n",
    "        tokens = tokenizer.tokenize(example[0].numpy()[0])\n",
    "        if max_seq_length is not None:\n",
    "            tokens = tokens[-max_seq_length:]\n",
    "        token_counts.update(tokens)\n",
    "\n",
    "    print('Vocab-size:', len(token_counts))\n",
    "\n",
    "\n",
    "    ## Step 3: encoding the texts\n",
    "    encoder = tfds.features.text.TokenTextEncoder(token_counts)\n",
    "    def encode(text_tensor, label):\n",
    "        text = text_tensor.numpy()[0]\n",
    "        encoded_text = encoder.encode(text)\n",
    "        if max_seq_length is not None:\n",
    "            encoded_text = encoded_text[-max_seq_length:]\n",
    "        return encoded_text, label\n",
    "\n",
    "    def encode_map_fn(text, label):\n",
    "        return tf.py_function(encode, inp=[text, label], \n",
    "                              Tout=(tf.int64, tf.int64))\n",
    "\n",
    "    ds_train = ds_raw_train.map(encode_map_fn)\n",
    "    ds_valid = ds_raw_valid.map(encode_map_fn)\n",
    "    ds_test = ds_raw_test.map(encode_map_fn)\n",
    "\n",
    "    ## Step 4: batching the datasets\n",
    "    train_data = ds_train.padded_batch(\n",
    "        batch_size, padded_shapes=([-1],[]))\n",
    "\n",
    "    valid_data = ds_valid.padded_batch(\n",
    "        batch_size, padded_shapes=([-1],[]))\n",
    "\n",
    "    test_data = ds_test.padded_batch(\n",
    "        batch_size, padded_shapes=([-1],[]))\n",
    "\n",
    "    return (train_data, valid_data, \n",
    "            test_data, len(token_counts))"
   ]
  },
  {
   "cell_type": "markdown",
   "metadata": {},
   "source": [
    "- Function to build models with different architectures more conveniently"
   ]
  },
  {
   "cell_type": "code",
   "execution_count": 15,
   "metadata": {},
   "outputs": [],
   "source": [
    "def build_rnn_model(embedding_dim, vocab_size,\n",
    "                    recurrent_type='SimpleRNN',\n",
    "                    n_recurrent_units=64,\n",
    "                    n_recurrent_layers=1,\n",
    "                    bidirectional=True):\n",
    "\n",
    "    tf.random.set_seed(1)\n",
    "\n",
    "    # build the model\n",
    "    model = tf.keras.Sequential()\n",
    "    \n",
    "    model.add(\n",
    "        Embedding(\n",
    "            input_dim=vocab_size,\n",
    "            output_dim=embedding_dim,\n",
    "            name='embed-layer')\n",
    "    )\n",
    "    \n",
    "    for i in range(n_recurrent_layers):\n",
    "        return_sequences = (i < n_recurrent_layers-1)\n",
    "            \n",
    "        if recurrent_type == 'SimpleRNN':\n",
    "            recurrent_layer = SimpleRNN(\n",
    "                units=n_recurrent_units, \n",
    "                return_sequences=return_sequences,\n",
    "                name='simprnn-layer-{}'.format(i))\n",
    "        elif recurrent_type == 'LSTM':\n",
    "            recurrent_layer = LSTM(\n",
    "                units=n_recurrent_units, \n",
    "                return_sequences=return_sequences,\n",
    "                name='lstm-layer-{}'.format(i))\n",
    "        elif recurrent_type == 'GRU':\n",
    "            recurrent_layer = GRU(\n",
    "                units=n_recurrent_units, \n",
    "                return_sequences=return_sequences,\n",
    "                name='gru-layer-{}'.format(i))\n",
    "        \n",
    "        if bidirectional:\n",
    "            recurrent_layer = Bidirectional(\n",
    "                recurrent_layer, name='bidir-'+recurrent_layer.name)\n",
    "            \n",
    "        model.add(recurrent_layer)\n",
    "\n",
    "    model.add(tf.keras.layers.Dense(64, activation='relu'))\n",
    "    model.add(tf.keras.layers.Dense(1, activation='sigmoid'))\n",
    "    \n",
    "    return model"
   ]
  },
  {
   "cell_type": "markdown",
   "metadata": {},
   "source": [
    "- Build a model"
   ]
  },
  {
   "cell_type": "code",
   "execution_count": 18,
   "metadata": {
    "tags": []
   },
   "outputs": [
    {
     "output_type": "stream",
     "name": "stdout",
     "text": "Vocab-size: 58063\nModel: \"sequential_3\"\n_________________________________________________________________\nLayer (type)                 Output Shape              Param #   \n=================================================================\nembed-layer (Embedding)      (None, None, 20)          1161300   \n_________________________________________________________________\nbidir-simprnn-layer-0 (Bidir (None, 128)               10880     \n_________________________________________________________________\ndense_1 (Dense)              (None, 64)                8256      \n_________________________________________________________________\ndense_2 (Dense)              (None, 1)                 65        \n=================================================================\nTotal params: 1,180,501\nTrainable params: 1,180,501\nNon-trainable params: 0\n_________________________________________________________________\n"
    }
   ],
   "source": [
    "from tensorflow.keras.layers import Bidirectional\n",
    "\n",
    "\n",
    "batch_size = 32\n",
    "embedding_dim = 20\n",
    "max_seq_length = 100\n",
    "\n",
    "train_data, valid_data, test_data, n = preprocess_datasets(\n",
    "    ds_raw_train, ds_raw_valid, ds_raw_test, \n",
    "    max_seq_length=max_seq_length, \n",
    "    batch_size=batch_size\n",
    ")\n",
    "\n",
    "\n",
    "vocab_size = n + 2\n",
    "\n",
    "rnn_model = build_rnn_model(\n",
    "    embedding_dim, vocab_size,\n",
    "    recurrent_type='SimpleRNN', \n",
    "    n_recurrent_units=64,\n",
    "    n_recurrent_layers=1,\n",
    "    bidirectional=True)\n",
    "\n",
    "rnn_model.summary()"
   ]
  },
  {
   "cell_type": "markdown",
   "metadata": {},
   "source": [
    "- Compile and train the model"
   ]
  },
  {
   "cell_type": "code",
   "execution_count": 19,
   "metadata": {
    "tags": []
   },
   "outputs": [
    {
     "output_type": "stream",
     "name": "stdout",
     "text": "Epoch 1/10\n625/625 [==============================] - 86s 137ms/step - loss: 0.6999 - accuracy: 0.5004 - val_loss: 0.0000e+00 - val_accuracy: 0.0000e+00\nEpoch 2/10\n625/625 [==============================] - 67s 107ms/step - loss: 0.6999 - accuracy: 0.5267 - val_loss: 0.7153 - val_accuracy: 0.4876\nEpoch 3/10\n625/625 [==============================] - 65s 104ms/step - loss: 0.6516 - accuracy: 0.6070 - val_loss: 0.6391 - val_accuracy: 0.6392\nEpoch 4/10\n625/625 [==============================] - 65s 105ms/step - loss: 0.5193 - accuracy: 0.7470 - val_loss: 0.5293 - val_accuracy: 0.7424\nEpoch 5/10\n625/625 [==============================] - 65s 105ms/step - loss: 0.3331 - accuracy: 0.8585 - val_loss: 0.4324 - val_accuracy: 0.8170\nEpoch 6/10\n625/625 [==============================] - 66s 105ms/step - loss: 0.1913 - accuracy: 0.9268 - val_loss: 0.5458 - val_accuracy: 0.8142\nEpoch 7/10\n625/625 [==============================] - 69s 110ms/step - loss: 0.1051 - accuracy: 0.9628 - val_loss: 0.7039 - val_accuracy: 0.7968\nEpoch 8/10\n625/625 [==============================] - 63s 101ms/step - loss: 0.0805 - accuracy: 0.9728 - val_loss: 0.7074 - val_accuracy: 0.7984\nEpoch 9/10\n625/625 [==============================] - 63s 101ms/step - loss: 0.0502 - accuracy: 0.9840 - val_loss: 0.8114 - val_accuracy: 0.7934\nEpoch 10/10\n625/625 [==============================] - 64s 102ms/step - loss: 0.0289 - accuracy: 0.9901 - val_loss: 0.9354 - val_accuracy: 0.7568\n"
    }
   ],
   "source": [
    "rnn_model.compile(optimizer=tf.keras.optimizers.Adam(1e-3),\n",
    "                  loss=tf.keras.losses.BinaryCrossentropy(from_logits=False),\n",
    "                  metrics=['accuracy'])\n",
    "\n",
    "\n",
    "history = rnn_model.fit(\n",
    "    train_data, \n",
    "    validation_data=valid_data, \n",
    "    epochs=10)"
   ]
  },
  {
   "cell_type": "markdown",
   "metadata": {},
   "source": [
    "- Evaluate the model on the test data"
   ]
  },
  {
   "cell_type": "code",
   "execution_count": 20,
   "metadata": {
    "tags": []
   },
   "outputs": [
    {
     "output_type": "stream",
     "name": "stdout",
     "text": "782/782 [==============================] - 30s 39ms/step - loss: 0.9089 - accuracy: 0.7627\n"
    }
   ],
   "source": [
    "results = rnn_model.evaluate(test_data)"
   ]
  },
  {
   "cell_type": "markdown",
   "metadata": {},
   "source": [
    "- Print out the testing accuracy"
   ]
  },
  {
   "cell_type": "code",
   "execution_count": 21,
   "metadata": {
    "tags": []
   },
   "outputs": [
    {
     "output_type": "stream",
     "name": "stdout",
     "text": "Test Acc.: 76.27%\n"
    }
   ],
   "source": [
    "print('Test Acc.: {:.2f}%'.format(results[1]*100))"
   ]
  },
  {
   "cell_type": "code",
   "execution_count": null,
   "metadata": {},
   "outputs": [],
   "source": []
  }
 ]
}