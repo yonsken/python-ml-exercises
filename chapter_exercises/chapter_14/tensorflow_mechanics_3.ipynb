{
 "metadata": {
  "language_info": {
   "codemirror_mode": {
    "name": "ipython",
    "version": 3
   },
   "file_extension": ".py",
   "mimetype": "text/x-python",
   "name": "python",
   "nbconvert_exporter": "python",
   "pygments_lexer": "ipython3",
   "version": "3.7.6-final"
  },
  "orig_nbformat": 2,
  "kernelspec": {
   "name": "python3",
   "display_name": "Python 3"
  }
 },
 "nbformat": 4,
 "nbformat_minor": 2,
 "cells": [
  {
   "cell_type": "markdown",
   "metadata": {},
   "source": [
    "# 1. Using Estimators for MNIST hand-written digit classification\n",
    "## Basic imports"
   ]
  },
  {
   "cell_type": "code",
   "execution_count": 7,
   "metadata": {},
   "outputs": [],
   "source": [
    "import tensorflow as tf\n",
    "import tensorflow_datasets as tfds\n",
    "import numpy as np"
   ]
  },
  {
   "cell_type": "markdown",
   "metadata": {},
   "source": [
    "## 1. Specify the hyperparameters\n",
    "- Reminder: steps_per_epoch determines the number of iterations in each epoch, which is needed for infinitely repeated datasets"
   ]
  },
  {
   "cell_type": "code",
   "execution_count": 8,
   "metadata": {},
   "outputs": [],
   "source": [
    "BUFFER_SIZE = 10000\n",
    "BATCH_SIZE = 64\n",
    "NUM_EPOCHS = 20\n",
    "steps_per_epoch = np.ceil(60000 / BATCH_SIZE)"
   ]
  },
  {
   "cell_type": "markdown",
   "metadata": {},
   "source": [
    "## 2. Define a helper function that will preprocess the input image and its label"
   ]
  },
  {
   "cell_type": "code",
   "execution_count": 9,
   "metadata": {},
   "outputs": [],
   "source": [
    "def preprocess(item):\n",
    "    image = item['image']\n",
    "    label = item['label']\n",
    "    image = tf.image.convert_image_dtype(\n",
    "        image, tf.float32)\n",
    "    image = tf.reshape(image, (-1,))\n",
    "\n",
    "    return {'image-pixels':image}, label[..., tf.newaxis]"
   ]
  },
  {
   "cell_type": "markdown",
   "metadata": {},
   "source": [
    "## 3. Step 1: Defining the input functions (one for training and one for evaluation)"
   ]
  },
  {
   "cell_type": "code",
   "execution_count": 10,
   "metadata": {},
   "outputs": [],
   "source": [
    "## define the input function for training\n",
    "def train_input_fn():\n",
    "    datasets = tfds.load(name='mnist')\n",
    "    mnist_train = datasets['train']\n",
    "\n",
    "    dataset = mnist_train.map(preprocess)\n",
    "    dataset = dataset.shuffle(BUFFER_SIZE)\n",
    "    dataset = dataset.batch(BATCH_SIZE)\n",
    "    return dataset.repeat()\n",
    "\n",
    "## define input-function for evaluation:\n",
    "def eval_input_fn():\n",
    "    datasets = tfds.load(name='mnist')\n",
    "    mnist_test = datasets['test']\n",
    "    dataset = mnist_test.map(preprocess).batch(BATCH_SIZE)\n",
    "    return dataset"
   ]
  },
  {
   "cell_type": "markdown",
   "metadata": {},
   "source": [
    "## 4. Step 2: Define the feature columns\n",
    "- The dictionary of features has only one key, 'image-pixels'"
   ]
  },
  {
   "cell_type": "code",
   "execution_count": 11,
   "metadata": {},
   "outputs": [],
   "source": [
    "image_feature_column = tf.feature_column.numeric_column(\n",
    "    key='image-pixels', shape=(28*28))"
   ]
  },
  {
   "cell_type": "markdown",
   "metadata": {},
   "source": [
    "## 5. Step 3: Instantiate the estimator\n",
    "- We specify the number of classes (remember that MNIST consists of 10 different digits, 0-9) using the argument n_classes"
   ]
  },
  {
   "cell_type": "code",
   "execution_count": 12,
   "metadata": {
    "tags": []
   },
   "outputs": [
    {
     "output_type": "stream",
     "name": "stdout",
     "text": "INFO:tensorflow:Using default config.\nINFO:tensorflow:Using config: {'_model_dir': 'models/mnist-dnn/', '_tf_random_seed': None, '_save_summary_steps': 100, '_save_checkpoints_steps': None, '_save_checkpoints_secs': 600, '_session_config': allow_soft_placement: true\ngraph_options {\n  rewrite_options {\n    meta_optimizer_iterations: ONE\n  }\n}\n, '_keep_checkpoint_max': 5, '_keep_checkpoint_every_n_hours': 10000, '_log_step_count_steps': 100, '_train_distribute': None, '_device_fn': None, '_protocol': None, '_eval_distribute': None, '_experimental_distribute': None, '_experimental_max_worker_delay_secs': None, '_session_creation_timeout_secs': 7200, '_service': None, '_cluster_spec': <tensorflow.python.training.server_lib.ClusterSpec object at 0x000001B6DDEB1608>, '_task_type': 'worker', '_task_id': 0, '_global_id_in_cluster': 0, '_master': '', '_evaluation_master': '', '_is_chief': True, '_num_ps_replicas': 0, '_num_worker_replicas': 1}\n"
    }
   ],
   "source": [
    "dnn_classifier = tf.estimator.DNNClassifier(\n",
    "    feature_columns=[image_feature_column],\n",
    "    hidden_units=[32, 16],\n",
    "    n_classes=10,\n",
    "    model_dir='models/mnist-dnn/')"
   ]
  },
  {
   "cell_type": "markdown",
   "metadata": {},
   "source": [
    "## 6. Step 4.1: Train the estimator"
   ]
  },
  {
   "cell_type": "code",
   "execution_count": 13,
   "metadata": {
    "tags": [
     "outputPrepend"
    ]
   },
   "outputs": [
    {
     "output_type": "stream",
     "name": "stdout",
     "text": "693, step = 27660 (0.866 sec)\nINFO:tensorflow:global_step/sec: 109.065\nINFO:tensorflow:global_step/sec: 109.065\nINFO:tensorflow:loss = 0.21514598, step = 27760 (0.919 sec)\nINFO:tensorflow:loss = 0.21514598, step = 27760 (0.919 sec)\nINFO:tensorflow:global_step/sec: 111.532\nINFO:tensorflow:global_step/sec: 111.532\nINFO:tensorflow:loss = 0.49585629, step = 27860 (0.892 sec)\nINFO:tensorflow:loss = 0.49585629, step = 27860 (0.892 sec)\nINFO:tensorflow:global_step/sec: 113.802\nINFO:tensorflow:global_step/sec: 113.802\nINFO:tensorflow:loss = 0.25044176, step = 27960 (0.880 sec)\nINFO:tensorflow:loss = 0.25044176, step = 27960 (0.880 sec)\nINFO:tensorflow:global_step/sec: 221.169\nINFO:tensorflow:global_step/sec: 221.169\nINFO:tensorflow:loss = 0.29258835, step = 28060 (0.452 sec)\nINFO:tensorflow:loss = 0.29258835, step = 28060 (0.452 sec)\nINFO:tensorflow:global_step/sec: 79.6753\nINFO:tensorflow:global_step/sec: 79.6753\nINFO:tensorflow:loss = 0.3199266, step = 28160 (1.255 sec)\nINFO:tensorflow:loss = 0.3199266, step = 28160 (1.255 sec)\nINFO:tensorflow:global_step/sec: 95.6505\nINFO:tensorflow:global_step/sec: 95.6505\nINFO:tensorflow:loss = 0.31483126, step = 28260 (1.044 sec)\nINFO:tensorflow:loss = 0.31483126, step = 28260 (1.044 sec)\nINFO:tensorflow:global_step/sec: 140.242\nINFO:tensorflow:global_step/sec: 140.242\nINFO:tensorflow:loss = 0.22661015, step = 28360 (0.711 sec)\nINFO:tensorflow:loss = 0.22661015, step = 28360 (0.711 sec)\nINFO:tensorflow:global_step/sec: 173.984\nINFO:tensorflow:global_step/sec: 173.984\nINFO:tensorflow:loss = 0.47676596, step = 28460 (0.577 sec)\nINFO:tensorflow:loss = 0.47676596, step = 28460 (0.577 sec)\nINFO:tensorflow:global_step/sec: 126.719\nINFO:tensorflow:global_step/sec: 126.719\nINFO:tensorflow:loss = 0.35819942, step = 28560 (0.791 sec)\nINFO:tensorflow:loss = 0.35819942, step = 28560 (0.791 sec)\nINFO:tensorflow:global_step/sec: 101.698\nINFO:tensorflow:global_step/sec: 101.698\nINFO:tensorflow:loss = 0.27769554, step = 28660 (0.980 sec)\nINFO:tensorflow:loss = 0.27769554, step = 28660 (0.980 sec)\nINFO:tensorflow:global_step/sec: 132.147\nINFO:tensorflow:global_step/sec: 132.147\nINFO:tensorflow:loss = 0.43672323, step = 28760 (0.757 sec)\nINFO:tensorflow:loss = 0.43672323, step = 28760 (0.757 sec)\nINFO:tensorflow:global_step/sec: 142.31\nINFO:tensorflow:global_step/sec: 142.31\nINFO:tensorflow:loss = 0.38338473, step = 28860 (0.708 sec)\nINFO:tensorflow:loss = 0.38338473, step = 28860 (0.708 sec)\nINFO:tensorflow:global_step/sec: 167.667\nINFO:tensorflow:global_step/sec: 167.667\nINFO:tensorflow:loss = 0.28112918, step = 28960 (0.592 sec)\nINFO:tensorflow:loss = 0.28112918, step = 28960 (0.592 sec)\nINFO:tensorflow:global_step/sec: 365.471\nINFO:tensorflow:global_step/sec: 365.471\nINFO:tensorflow:loss = 0.41966128, step = 29060 (0.275 sec)\nINFO:tensorflow:loss = 0.41966128, step = 29060 (0.275 sec)\nINFO:tensorflow:global_step/sec: 85.6656\nINFO:tensorflow:global_step/sec: 85.6656\nINFO:tensorflow:loss = 0.24459496, step = 29160 (1.166 sec)\nINFO:tensorflow:loss = 0.24459496, step = 29160 (1.166 sec)\nINFO:tensorflow:global_step/sec: 150.175\nINFO:tensorflow:global_step/sec: 150.175\nINFO:tensorflow:loss = 0.40181452, step = 29260 (0.669 sec)\nINFO:tensorflow:loss = 0.40181452, step = 29260 (0.669 sec)\nINFO:tensorflow:global_step/sec: 141.607\nINFO:tensorflow:global_step/sec: 141.607\nINFO:tensorflow:loss = 0.47819513, step = 29360 (0.701 sec)\nINFO:tensorflow:loss = 0.47819513, step = 29360 (0.701 sec)\nINFO:tensorflow:global_step/sec: 129.582\nINFO:tensorflow:global_step/sec: 129.582\nINFO:tensorflow:loss = 0.27193484, step = 29460 (0.778 sec)\nINFO:tensorflow:loss = 0.27193484, step = 29460 (0.778 sec)\nINFO:tensorflow:global_step/sec: 129.653\nINFO:tensorflow:global_step/sec: 129.653\nINFO:tensorflow:loss = 0.2960463, step = 29560 (0.768 sec)\nINFO:tensorflow:loss = 0.2960463, step = 29560 (0.768 sec)\nINFO:tensorflow:global_step/sec: 135.946\nINFO:tensorflow:global_step/sec: 135.946\nINFO:tensorflow:loss = 0.36267975, step = 29660 (0.733 sec)\nINFO:tensorflow:loss = 0.36267975, step = 29660 (0.733 sec)\nINFO:tensorflow:global_step/sec: 174.379\nINFO:tensorflow:global_step/sec: 174.379\nINFO:tensorflow:loss = 0.4576266, step = 29760 (0.575 sec)\nINFO:tensorflow:loss = 0.4576266, step = 29760 (0.575 sec)\nINFO:tensorflow:global_step/sec: 134.949\nINFO:tensorflow:global_step/sec: 134.949\nINFO:tensorflow:loss = 0.4370399, step = 29860 (0.742 sec)\nINFO:tensorflow:loss = 0.4370399, step = 29860 (0.742 sec)\nINFO:tensorflow:global_step/sec: 407.589\nINFO:tensorflow:global_step/sec: 407.589\nINFO:tensorflow:loss = 0.27969527, step = 29960 (0.248 sec)\nINFO:tensorflow:loss = 0.27969527, step = 29960 (0.248 sec)\nINFO:tensorflow:global_step/sec: 86.0666\nINFO:tensorflow:global_step/sec: 86.0666\nINFO:tensorflow:loss = 0.17693043, step = 30060 (1.161 sec)\nINFO:tensorflow:loss = 0.17693043, step = 30060 (1.161 sec)\nINFO:tensorflow:global_step/sec: 158.652\nINFO:tensorflow:global_step/sec: 158.652\nINFO:tensorflow:loss = 0.28829476, step = 30160 (0.626 sec)\nINFO:tensorflow:loss = 0.28829476, step = 30160 (0.626 sec)\nINFO:tensorflow:global_step/sec: 98.8751\nINFO:tensorflow:global_step/sec: 98.8751\nINFO:tensorflow:loss = 0.43296757, step = 30260 (1.012 sec)\nINFO:tensorflow:loss = 0.43296757, step = 30260 (1.012 sec)\nINFO:tensorflow:global_step/sec: 115.495\nINFO:tensorflow:global_step/sec: 115.495\nINFO:tensorflow:loss = 0.34952742, step = 30360 (0.865 sec)\nINFO:tensorflow:loss = 0.34952742, step = 30360 (0.865 sec)\nINFO:tensorflow:global_step/sec: 114.29\nINFO:tensorflow:global_step/sec: 114.29\nINFO:tensorflow:loss = 0.18293975, step = 30460 (0.885 sec)\nINFO:tensorflow:loss = 0.18293975, step = 30460 (0.885 sec)\nINFO:tensorflow:global_step/sec: 96.7436\nINFO:tensorflow:global_step/sec: 96.7436\nINFO:tensorflow:loss = 0.5812334, step = 30560 (1.029 sec)\nINFO:tensorflow:loss = 0.5812334, step = 30560 (1.029 sec)\nINFO:tensorflow:global_step/sec: 114.487\nINFO:tensorflow:global_step/sec: 114.487\nINFO:tensorflow:loss = 0.27910766, step = 30660 (0.870 sec)\nINFO:tensorflow:loss = 0.27910766, step = 30660 (0.870 sec)\nINFO:tensorflow:global_step/sec: 115.255\nINFO:tensorflow:global_step/sec: 115.255\nINFO:tensorflow:loss = 0.33503938, step = 30760 (0.867 sec)\nINFO:tensorflow:loss = 0.33503938, step = 30760 (0.867 sec)\nINFO:tensorflow:global_step/sec: 213.769\nINFO:tensorflow:global_step/sec: 213.769\nINFO:tensorflow:loss = 0.4468168, step = 30860 (0.467 sec)\nINFO:tensorflow:loss = 0.4468168, step = 30860 (0.467 sec)\nINFO:tensorflow:global_step/sec: 84.6616\nINFO:tensorflow:global_step/sec: 84.6616\nINFO:tensorflow:loss = 0.30747, step = 30960 (1.181 sec)\nINFO:tensorflow:loss = 0.30747, step = 30960 (1.181 sec)\nINFO:tensorflow:global_step/sec: 116.595\nINFO:tensorflow:global_step/sec: 116.595\nINFO:tensorflow:loss = 0.45476413, step = 31060 (0.861 sec)\nINFO:tensorflow:loss = 0.45476413, step = 31060 (0.861 sec)\nINFO:tensorflow:global_step/sec: 109.627\nINFO:tensorflow:global_step/sec: 109.627\nINFO:tensorflow:loss = 0.4407251, step = 31160 (0.910 sec)\nINFO:tensorflow:loss = 0.4407251, step = 31160 (0.910 sec)\nINFO:tensorflow:global_step/sec: 107.553\nINFO:tensorflow:global_step/sec: 107.553\nINFO:tensorflow:loss = 0.27697593, step = 31260 (0.930 sec)\nINFO:tensorflow:loss = 0.27697593, step = 31260 (0.930 sec)\nINFO:tensorflow:global_step/sec: 109.856\nINFO:tensorflow:global_step/sec: 109.856\nINFO:tensorflow:loss = 0.38537174, step = 31360 (0.916 sec)\nINFO:tensorflow:loss = 0.38537174, step = 31360 (0.916 sec)\nINFO:tensorflow:global_step/sec: 115.158\nINFO:tensorflow:global_step/sec: 115.158\nINFO:tensorflow:loss = 0.2280062, step = 31460 (0.863 sec)\nINFO:tensorflow:loss = 0.2280062, step = 31460 (0.863 sec)\nINFO:tensorflow:global_step/sec: 115.089\nINFO:tensorflow:global_step/sec: 115.089\nINFO:tensorflow:loss = 0.35098097, step = 31560 (0.868 sec)\nINFO:tensorflow:loss = 0.35098097, step = 31560 (0.868 sec)\nINFO:tensorflow:global_step/sec: 113.125\nINFO:tensorflow:global_step/sec: 113.125\nINFO:tensorflow:loss = 0.5071863, step = 31660 (0.885 sec)\nINFO:tensorflow:loss = 0.5071863, step = 31660 (0.885 sec)\nINFO:tensorflow:global_step/sec: 142.132\nINFO:tensorflow:global_step/sec: 142.132\nINFO:tensorflow:loss = 0.26065987, step = 31760 (0.704 sec)\nINFO:tensorflow:loss = 0.26065987, step = 31760 (0.704 sec)\nINFO:tensorflow:global_step/sec: 392.602\nINFO:tensorflow:global_step/sec: 392.602\nINFO:tensorflow:loss = 0.4505433, step = 31860 (0.258 sec)\nINFO:tensorflow:loss = 0.4505433, step = 31860 (0.258 sec)\nINFO:tensorflow:global_step/sec: 64.8578\nINFO:tensorflow:global_step/sec: 64.8578\nINFO:tensorflow:loss = 0.34131157, step = 31960 (1.537 sec)\nINFO:tensorflow:loss = 0.34131157, step = 31960 (1.537 sec)\nINFO:tensorflow:global_step/sec: 122.604\nINFO:tensorflow:global_step/sec: 122.604\nINFO:tensorflow:loss = 0.1600033, step = 32060 (0.817 sec)\nINFO:tensorflow:loss = 0.1600033, step = 32060 (0.817 sec)\nINFO:tensorflow:global_step/sec: 126.418\nINFO:tensorflow:global_step/sec: 126.418\nINFO:tensorflow:loss = 0.21325348, step = 32160 (0.797 sec)\nINFO:tensorflow:loss = 0.21325348, step = 32160 (0.797 sec)\nINFO:tensorflow:global_step/sec: 106.234\nINFO:tensorflow:global_step/sec: 106.234\nINFO:tensorflow:loss = 0.30305195, step = 32260 (0.937 sec)\nINFO:tensorflow:loss = 0.30305195, step = 32260 (0.937 sec)\nINFO:tensorflow:global_step/sec: 121.586\nINFO:tensorflow:global_step/sec: 121.586\nINFO:tensorflow:loss = 0.22918785, step = 32360 (0.823 sec)\nINFO:tensorflow:loss = 0.22918785, step = 32360 (0.823 sec)\nINFO:tensorflow:global_step/sec: 119.162\nINFO:tensorflow:global_step/sec: 119.162\nINFO:tensorflow:loss = 0.2665013, step = 32460 (0.834 sec)\nINFO:tensorflow:loss = 0.2665013, step = 32460 (0.834 sec)\nINFO:tensorflow:global_step/sec: 122.086\nINFO:tensorflow:global_step/sec: 122.086\nINFO:tensorflow:loss = 0.2391516, step = 32560 (0.820 sec)\nINFO:tensorflow:loss = 0.2391516, step = 32560 (0.820 sec)\nINFO:tensorflow:global_step/sec: 116.994\nINFO:tensorflow:global_step/sec: 116.994\nINFO:tensorflow:loss = 0.24064872, step = 32660 (0.857 sec)\nINFO:tensorflow:loss = 0.24064872, step = 32660 (0.857 sec)\nINFO:tensorflow:global_step/sec: 320.116\nINFO:tensorflow:global_step/sec: 320.116\nINFO:tensorflow:loss = 0.32699293, step = 32760 (0.311 sec)\nINFO:tensorflow:loss = 0.32699293, step = 32760 (0.311 sec)\nINFO:tensorflow:global_step/sec: 79.8255\nINFO:tensorflow:global_step/sec: 79.8255\nINFO:tensorflow:loss = 0.2692636, step = 32860 (1.256 sec)\nINFO:tensorflow:loss = 0.2692636, step = 32860 (1.256 sec)\nINFO:tensorflow:global_step/sec: 86.7813\nINFO:tensorflow:global_step/sec: 86.7813\nINFO:tensorflow:loss = 0.45387933, step = 32960 (1.154 sec)\nINFO:tensorflow:loss = 0.45387933, step = 32960 (1.154 sec)\nINFO:tensorflow:global_step/sec: 115.44\nINFO:tensorflow:global_step/sec: 115.44\nINFO:tensorflow:loss = 0.4210137, step = 33060 (0.865 sec)\nINFO:tensorflow:loss = 0.4210137, step = 33060 (0.865 sec)\nINFO:tensorflow:global_step/sec: 118.377\nINFO:tensorflow:global_step/sec: 118.377\nINFO:tensorflow:loss = 0.31640965, step = 33160 (0.843 sec)\nINFO:tensorflow:loss = 0.31640965, step = 33160 (0.843 sec)\nINFO:tensorflow:global_step/sec: 100.805\nINFO:tensorflow:global_step/sec: 100.805\nINFO:tensorflow:loss = 0.2139442, step = 33260 (0.991 sec)\nINFO:tensorflow:loss = 0.2139442, step = 33260 (0.991 sec)\nINFO:tensorflow:global_step/sec: 106.533\nINFO:tensorflow:global_step/sec: 106.533\nINFO:tensorflow:loss = 0.31637052, step = 33360 (0.937 sec)\nINFO:tensorflow:loss = 0.31637052, step = 33360 (0.937 sec)\nINFO:tensorflow:global_step/sec: 140.215\nINFO:tensorflow:global_step/sec: 140.215\nINFO:tensorflow:loss = 0.41757232, step = 33460 (0.712 sec)\nINFO:tensorflow:loss = 0.41757232, step = 33460 (0.712 sec)\nINFO:tensorflow:global_step/sec: 100.949\nINFO:tensorflow:global_step/sec: 100.949\nINFO:tensorflow:loss = 0.27453285, step = 33560 (0.995 sec)\nINFO:tensorflow:loss = 0.27453285, step = 33560 (0.995 sec)\nINFO:tensorflow:global_step/sec: 148.224\nINFO:tensorflow:global_step/sec: 148.224\nINFO:tensorflow:loss = 0.3061321, step = 33660 (0.674 sec)\nINFO:tensorflow:loss = 0.3061321, step = 33660 (0.674 sec)\nINFO:tensorflow:global_step/sec: 294.149\nINFO:tensorflow:global_step/sec: 294.149\nINFO:tensorflow:loss = 0.23483738, step = 33760 (0.345 sec)\nINFO:tensorflow:loss = 0.23483738, step = 33760 (0.345 sec)\nINFO:tensorflow:global_step/sec: 65.6248\nINFO:tensorflow:global_step/sec: 65.6248\nINFO:tensorflow:loss = 0.5307944, step = 33860 (1.517 sec)\nINFO:tensorflow:loss = 0.5307944, step = 33860 (1.517 sec)\nINFO:tensorflow:global_step/sec: 115.484\nINFO:tensorflow:global_step/sec: 115.484\nINFO:tensorflow:loss = 0.37021962, step = 33960 (0.866 sec)\nINFO:tensorflow:loss = 0.37021962, step = 33960 (0.866 sec)\nINFO:tensorflow:global_step/sec: 119.303\nINFO:tensorflow:global_step/sec: 119.303\nINFO:tensorflow:loss = 0.2950766, step = 34060 (0.838 sec)\nINFO:tensorflow:loss = 0.2950766, step = 34060 (0.838 sec)\nINFO:tensorflow:global_step/sec: 119.933\nINFO:tensorflow:global_step/sec: 119.933\nINFO:tensorflow:loss = 0.25634038, step = 34160 (0.834 sec)\nINFO:tensorflow:loss = 0.25634038, step = 34160 (0.834 sec)\nINFO:tensorflow:global_step/sec: 119.75\nINFO:tensorflow:global_step/sec: 119.75\nINFO:tensorflow:loss = 0.40624338, step = 34260 (0.839 sec)\nINFO:tensorflow:loss = 0.40624338, step = 34260 (0.839 sec)\nINFO:tensorflow:global_step/sec: 113.358\nINFO:tensorflow:global_step/sec: 113.358\nINFO:tensorflow:loss = 0.37578815, step = 34360 (0.883 sec)\nINFO:tensorflow:loss = 0.37578815, step = 34360 (0.883 sec)\nINFO:tensorflow:global_step/sec: 110.88\nINFO:tensorflow:global_step/sec: 110.88\nINFO:tensorflow:loss = 0.30516362, step = 34460 (0.902 sec)\nINFO:tensorflow:loss = 0.30516362, step = 34460 (0.902 sec)\nINFO:tensorflow:global_step/sec: 100.389\nINFO:tensorflow:global_step/sec: 100.389\nINFO:tensorflow:loss = 0.5307997, step = 34560 (0.995 sec)\nINFO:tensorflow:loss = 0.5307997, step = 34560 (0.995 sec)\nINFO:tensorflow:global_step/sec: 381.684\nINFO:tensorflow:global_step/sec: 381.684\nINFO:tensorflow:loss = 0.3252859, step = 34660 (0.258 sec)\nINFO:tensorflow:loss = 0.3252859, step = 34660 (0.258 sec)\nINFO:tensorflow:global_step/sec: 54.4577\nINFO:tensorflow:global_step/sec: 54.4577\nINFO:tensorflow:loss = 0.38511837, step = 34760 (1.834 sec)\nINFO:tensorflow:loss = 0.38511837, step = 34760 (1.834 sec)\nINFO:tensorflow:global_step/sec: 100.335\nINFO:tensorflow:global_step/sec: 100.335\nINFO:tensorflow:loss = 0.4871232, step = 34860 (0.998 sec)\nINFO:tensorflow:loss = 0.4871232, step = 34860 (0.998 sec)\nINFO:tensorflow:global_step/sec: 103.117\nINFO:tensorflow:global_step/sec: 103.117\nINFO:tensorflow:loss = 0.29403275, step = 34960 (0.970 sec)\nINFO:tensorflow:loss = 0.29403275, step = 34960 (0.970 sec)\nINFO:tensorflow:global_step/sec: 119.054\nINFO:tensorflow:global_step/sec: 119.054\nINFO:tensorflow:loss = 0.31079784, step = 35060 (0.843 sec)\nINFO:tensorflow:loss = 0.31079784, step = 35060 (0.843 sec)\nINFO:tensorflow:global_step/sec: 116.917\nINFO:tensorflow:global_step/sec: 116.917\nINFO:tensorflow:loss = 0.2873783, step = 35160 (0.853 sec)\nINFO:tensorflow:loss = 0.2873783, step = 35160 (0.853 sec)\nINFO:tensorflow:global_step/sec: 114.577\nINFO:tensorflow:global_step/sec: 114.577\nINFO:tensorflow:loss = 0.30432886, step = 35260 (0.876 sec)\nINFO:tensorflow:loss = 0.30432886, step = 35260 (0.876 sec)\nINFO:tensorflow:global_step/sec: 116.394\nINFO:tensorflow:global_step/sec: 116.394\nINFO:tensorflow:loss = 0.46677732, step = 35360 (0.855 sec)\nINFO:tensorflow:loss = 0.46677732, step = 35360 (0.855 sec)\nINFO:tensorflow:global_step/sec: 89.7656\nINFO:tensorflow:global_step/sec: 89.7656\nINFO:tensorflow:loss = 0.3262428, step = 35460 (1.148 sec)\nINFO:tensorflow:loss = 0.3262428, step = 35460 (1.148 sec)\nINFO:tensorflow:global_step/sec: 106.311\nINFO:tensorflow:global_step/sec: 106.311\nINFO:tensorflow:loss = 0.3624407, step = 35560 (0.912 sec)\nINFO:tensorflow:loss = 0.3624407, step = 35560 (0.912 sec)\nINFO:tensorflow:global_step/sec: 77.0253\nINFO:tensorflow:global_step/sec: 77.0253\nINFO:tensorflow:loss = 0.31166124, step = 35660 (1.298 sec)\nINFO:tensorflow:loss = 0.31166124, step = 35660 (1.298 sec)\nINFO:tensorflow:global_step/sec: 115.216\nINFO:tensorflow:global_step/sec: 115.216\nINFO:tensorflow:loss = 0.28389084, step = 35760 (0.867 sec)\nINFO:tensorflow:loss = 0.28389084, step = 35760 (0.867 sec)\nINFO:tensorflow:global_step/sec: 115.72\nINFO:tensorflow:global_step/sec: 115.72\nINFO:tensorflow:loss = 0.30259088, step = 35860 (0.859 sec)\nINFO:tensorflow:loss = 0.30259088, step = 35860 (0.859 sec)\nINFO:tensorflow:global_step/sec: 115.058\nINFO:tensorflow:global_step/sec: 115.058\nINFO:tensorflow:loss = 0.4033837, step = 35960 (0.876 sec)\nINFO:tensorflow:loss = 0.4033837, step = 35960 (0.876 sec)\nINFO:tensorflow:global_step/sec: 95.9847\nINFO:tensorflow:global_step/sec: 95.9847\nINFO:tensorflow:loss = 0.2841969, step = 36060 (1.035 sec)\nINFO:tensorflow:loss = 0.2841969, step = 36060 (1.035 sec)\nINFO:tensorflow:global_step/sec: 108.427\nINFO:tensorflow:global_step/sec: 108.427\nINFO:tensorflow:loss = 0.48294714, step = 36160 (0.927 sec)\nINFO:tensorflow:loss = 0.48294714, step = 36160 (0.927 sec)\nINFO:tensorflow:global_step/sec: 61.4943\nINFO:tensorflow:global_step/sec: 61.4943\nINFO:tensorflow:loss = 0.5159656, step = 36260 (1.625 sec)\nINFO:tensorflow:loss = 0.5159656, step = 36260 (1.625 sec)\nINFO:tensorflow:global_step/sec: 112.791\nINFO:tensorflow:global_step/sec: 112.791\nINFO:tensorflow:loss = 0.5104073, step = 36360 (0.884 sec)\nINFO:tensorflow:loss = 0.5104073, step = 36360 (0.884 sec)\nINFO:tensorflow:global_step/sec: 205.426\nINFO:tensorflow:global_step/sec: 205.426\nINFO:tensorflow:loss = 0.32602996, step = 36460 (0.488 sec)\nINFO:tensorflow:loss = 0.32602996, step = 36460 (0.488 sec)\nINFO:tensorflow:global_step/sec: 229.696\nINFO:tensorflow:global_step/sec: 229.696\nINFO:tensorflow:loss = 0.34034315, step = 36560 (0.441 sec)\nINFO:tensorflow:loss = 0.34034315, step = 36560 (0.441 sec)\nINFO:tensorflow:global_step/sec: 54.6441\nINFO:tensorflow:global_step/sec: 54.6441\nINFO:tensorflow:loss = 0.4805529, step = 36660 (1.828 sec)\nINFO:tensorflow:loss = 0.4805529, step = 36660 (1.828 sec)\nINFO:tensorflow:global_step/sec: 107.584\nINFO:tensorflow:global_step/sec: 107.584\nINFO:tensorflow:loss = 0.33257157, step = 36760 (0.924 sec)\nINFO:tensorflow:loss = 0.33257157, step = 36760 (0.924 sec)\nINFO:tensorflow:global_step/sec: 116.04\nINFO:tensorflow:global_step/sec: 116.04\nINFO:tensorflow:loss = 0.27218473, step = 36860 (0.865 sec)\nINFO:tensorflow:loss = 0.27218473, step = 36860 (0.865 sec)\nINFO:tensorflow:global_step/sec: 108.519\nINFO:tensorflow:global_step/sec: 108.519\nINFO:tensorflow:loss = 0.21697214, step = 36960 (0.924 sec)\nINFO:tensorflow:loss = 0.21697214, step = 36960 (0.924 sec)\nINFO:tensorflow:global_step/sec: 103.954\nINFO:tensorflow:global_step/sec: 103.954\nINFO:tensorflow:loss = 0.3612527, step = 37060 (0.960 sec)\nINFO:tensorflow:loss = 0.3612527, step = 37060 (0.960 sec)\nINFO:tensorflow:global_step/sec: 86.5957\nINFO:tensorflow:global_step/sec: 86.5957\nINFO:tensorflow:loss = 0.39207715, step = 37160 (1.159 sec)\nINFO:tensorflow:loss = 0.39207715, step = 37160 (1.159 sec)\nINFO:tensorflow:global_step/sec: 83.5134\nINFO:tensorflow:global_step/sec: 83.5134\nINFO:tensorflow:loss = 0.27562553, step = 37260 (1.196 sec)\nINFO:tensorflow:loss = 0.27562553, step = 37260 (1.196 sec)\nINFO:tensorflow:global_step/sec: 95.0346\nINFO:tensorflow:global_step/sec: 95.0346\nINFO:tensorflow:loss = 0.30832422, step = 37360 (1.051 sec)\nINFO:tensorflow:loss = 0.30832422, step = 37360 (1.051 sec)\nINFO:tensorflow:global_step/sec: 413.485\nINFO:tensorflow:global_step/sec: 413.485\nINFO:tensorflow:loss = 0.12796779, step = 37460 (0.236 sec)\nINFO:tensorflow:loss = 0.12796779, step = 37460 (0.236 sec)\nINFO:tensorflow:Saving checkpoints for 37520 into models/mnist-dnn/model.ckpt.\nINFO:tensorflow:Saving checkpoints for 37520 into models/mnist-dnn/model.ckpt.\nINFO:tensorflow:Loss for final step: 0.34014928.\nINFO:tensorflow:Loss for final step: 0.34014928.\n"
    },
    {
     "output_type": "execute_result",
     "data": {
      "text/plain": "<tensorflow_estimator.python.estimator.canned.dnn.DNNClassifierV2 at 0x1b6ddea6588>"
     },
     "metadata": {},
     "execution_count": 13
    }
   ],
   "source": [
    "dnn_classifier.train(\n",
    "    input_fn=train_input_fn,\n",
    "    steps=NUM_EPOCHS * steps_per_epoch)"
   ]
  },
  {
   "cell_type": "markdown",
   "metadata": {},
   "source": [
    "## 7. Step 4.2: Evaluate the estimator"
   ]
  },
  {
   "cell_type": "code",
   "execution_count": 14,
   "metadata": {
    "tags": []
   },
   "outputs": [
    {
     "output_type": "stream",
     "name": "stdout",
     "text": "INFO:tensorflow:Calling model_fn.\nINFO:tensorflow:Calling model_fn.\nINFO:tensorflow:Done calling model_fn.\nINFO:tensorflow:Done calling model_fn.\nINFO:tensorflow:Starting evaluation at 2020-07-27T02:25:12Z\nINFO:tensorflow:Starting evaluation at 2020-07-27T02:25:12Z\nINFO:tensorflow:Graph was finalized.\nINFO:tensorflow:Graph was finalized.\nINFO:tensorflow:Restoring parameters from models/mnist-dnn/model.ckpt-37520\nINFO:tensorflow:Restoring parameters from models/mnist-dnn/model.ckpt-37520\nINFO:tensorflow:Running local_init_op.\nINFO:tensorflow:Running local_init_op.\nINFO:tensorflow:Done running local_init_op.\nINFO:tensorflow:Done running local_init_op.\nINFO:tensorflow:Finished evaluation at 2020-07-27-02:25:14\nINFO:tensorflow:Finished evaluation at 2020-07-27-02:25:14\nINFO:tensorflow:Saving dict for global step 37520: accuracy = 0.9111, average_loss = 0.32053024, global_step = 37520, loss = 0.3200508\nINFO:tensorflow:Saving dict for global step 37520: accuracy = 0.9111, average_loss = 0.32053024, global_step = 37520, loss = 0.3200508\nINFO:tensorflow:Saving 'checkpoint_path' summary for global step 37520: models/mnist-dnn/model.ckpt-37520\nINFO:tensorflow:Saving 'checkpoint_path' summary for global step 37520: models/mnist-dnn/model.ckpt-37520\n{'accuracy': 0.9111, 'average_loss': 0.32053024, 'loss': 0.3200508, 'global_step': 37520}\n"
    }
   ],
   "source": [
    "eval_result = dnn_classifier.evaluate(\n",
    "    input_fn=eval_input_fn)\n",
    "\n",
    "print(eval_result)"
   ]
  },
  {
   "cell_type": "markdown",
   "metadata": {},
   "source": [
    "# 2. Creating a custom Estimator from an existing Keras model\n",
    "- Such a conversion allows us to access the strengths of Estimators, such as distributed training and automatic checkpointing\n",
    "- In addition, it will make it easy for others to use this model, and particularly to avoid confusions in interpreting the input features by specifying the feature columns and the input function\n",
    "\n",
    "## 1. Generate the XOR data and split into training and validation datasets"
   ]
  },
  {
   "cell_type": "code",
   "execution_count": 15,
   "metadata": {},
   "outputs": [],
   "source": [
    "tf.random.set_seed(1)\n",
    "np.random.seed(1)\n",
    "\n",
    "## Create the data\n",
    "x = np.random.uniform(low=-1, high=1, size=(200, 2))\n",
    "y = np.ones(len(x))\n",
    "y[x[:, 0] * x[:, 1]<0] = 0\n",
    "\n",
    "x_train = x[:100, :]\n",
    "y_train = y[:100]\n",
    "x_valid = x[100:, :]\n",
    "y_valid = y[100:]"
   ]
  },
  {
   "cell_type": "markdown",
   "metadata": {},
   "source": [
    "## 2. Step 1: Define the input functions\n",
    "- The key name for the input features must match with we define in the input layer of our model in Step 3"
   ]
  },
  {
   "cell_type": "code",
   "execution_count": 16,
   "metadata": {},
   "outputs": [],
   "source": [
    "def train_input_fn(x_train, y_train, batch_size=8):\n",
    "    dataset = tf.data.Dataset.from_tensor_slices(\n",
    "        ({'input-features':x_train}, y_train.reshape(-1, 1)))\n",
    "\n",
    "    # Shuffle, repeat, and batch the examples.\n",
    "    return dataset.shuffle(100).repeat().batch(batch_size)\n",
    "\n",
    "def eval_input_fn(x_test, y_test=None, batch_size=8):\n",
    "    if y_test is None:\n",
    "        dataset = tf.data.Dataset.from_tensor_slices(\n",
    "            {'input-features':x_test})\n",
    "    else:\n",
    "        dataset = tf.data.Dataset.from_tensor_slices(\n",
    "            ({'input-features':x_test}, y_test.reshape(-1, 1)))\n",
    "\n",
    "    # Shuffle, repeat, and batch the examples.\n",
    "    return dataset.batch(batch_size)"
   ]
  },
  {
   "cell_type": "markdown",
   "metadata": {},
   "source": [
    "## 3. Define the feature columns"
   ]
  },
  {
   "cell_type": "code",
   "execution_count": 17,
   "metadata": {},
   "outputs": [
    {
     "output_type": "execute_result",
     "data": {
      "text/plain": "[NumericColumn(key='input-features:', shape=(2,), default_value=None, dtype=tf.float32, normalizer_fn=None)]"
     },
     "metadata": {},
     "execution_count": 17
    }
   ],
   "source": [
    "features = [\n",
    "    tf.feature_column.numeric_column(\n",
    "        key='input-features:', shape=(2,))\n",
    "]\n",
    "    \n",
    "features"
   ]
  },
  {
   "cell_type": "markdown",
   "metadata": {},
   "source": [
    "## 4. Step 3: Create the estimator - convert from a Keras model\n",
    "- Before converting the model, we need to compile it"
   ]
  },
  {
   "cell_type": "code",
   "execution_count": 18,
   "metadata": {
    "tags": []
   },
   "outputs": [
    {
     "output_type": "stream",
     "name": "stdout",
     "text": "Model: \"sequential\"\n_________________________________________________________________\nLayer (type)                 Output Shape              Param #   \n=================================================================\ndense (Dense)                (None, 4)                 12        \n_________________________________________________________________\ndense_1 (Dense)              (None, 4)                 20        \n_________________________________________________________________\ndense_2 (Dense)              (None, 4)                 20        \n_________________________________________________________________\ndense_3 (Dense)              (None, 1)                 5         \n=================================================================\nTotal params: 57\nTrainable params: 57\nNon-trainable params: 0\n_________________________________________________________________\nINFO:tensorflow:Using default config.\nINFO:tensorflow:Using default config.\nINFO:tensorflow:Using the Keras model provided.\nINFO:tensorflow:Using the Keras model provided.\nINFO:tensorflow:Using config: {'_model_dir': 'models/estimator-for-XOR/', '_tf_random_seed': None, '_save_summary_steps': 100, '_save_checkpoints_steps': None, '_save_checkpoints_secs': 600, '_session_config': allow_soft_placement: true\ngraph_options {\n  rewrite_options {\n    meta_optimizer_iterations: ONE\n  }\n}\n, '_keep_checkpoint_max': 5, '_keep_checkpoint_every_n_hours': 10000, '_log_step_count_steps': 100, '_train_distribute': None, '_device_fn': None, '_protocol': None, '_eval_distribute': None, '_experimental_distribute': None, '_experimental_max_worker_delay_secs': None, '_session_creation_timeout_secs': 7200, '_service': None, '_cluster_spec': <tensorflow.python.training.server_lib.ClusterSpec object at 0x000001B6DE166408>, '_task_type': 'worker', '_task_id': 0, '_global_id_in_cluster': 0, '_master': '', '_evaluation_master': '', '_is_chief': True, '_num_ps_replicas': 0, '_num_worker_replicas': 1}\nINFO:tensorflow:Using config: {'_model_dir': 'models/estimator-for-XOR/', '_tf_random_seed': None, '_save_summary_steps': 100, '_save_checkpoints_steps': None, '_save_checkpoints_secs': 600, '_session_config': allow_soft_placement: true\ngraph_options {\n  rewrite_options {\n    meta_optimizer_iterations: ONE\n  }\n}\n, '_keep_checkpoint_max': 5, '_keep_checkpoint_every_n_hours': 10000, '_log_step_count_steps': 100, '_train_distribute': None, '_device_fn': None, '_protocol': None, '_eval_distribute': None, '_experimental_distribute': None, '_experimental_max_worker_delay_secs': None, '_session_creation_timeout_secs': 7200, '_service': None, '_cluster_spec': <tensorflow.python.training.server_lib.ClusterSpec object at 0x000001B6DE166408>, '_task_type': 'worker', '_task_id': 0, '_global_id_in_cluster': 0, '_master': '', '_evaluation_master': '', '_is_chief': True, '_num_ps_replicas': 0, '_num_worker_replicas': 1}\n"
    }
   ],
   "source": [
    "model = tf.keras.Sequential([\n",
    "    tf.keras.layers.Input(shape=(2,), name='input-features'),\n",
    "    tf.keras.layers.Dense(units=4, activation='relu'),\n",
    "    tf.keras.layers.Dense(units=4, activation='relu'),\n",
    "    tf.keras.layers.Dense(units=4, activation='relu'),\n",
    "    tf.keras.layers.Dense(1, activation='sigmoid')\n",
    "])\n",
    "\n",
    "model.summary()\n",
    "\n",
    "model.compile(optimizer=tf.keras.optimizers.SGD(),\n",
    "              loss=tf.keras.losses.BinaryCrossentropy(),\n",
    "              metrics=[tf.keras.metrics.BinaryAccuracy()])\n",
    "\n",
    "my_estimator = tf.keras.estimator.model_to_estimator(\n",
    "    keras_model=model,\n",
    "    model_dir='models/estimator-for-XOR/')"
   ]
  },
  {
   "cell_type": "markdown",
   "metadata": {},
   "source": [
    "## 5. Step 4.1: Train the estimator"
   ]
  },
  {
   "cell_type": "code",
   "execution_count": 19,
   "metadata": {
    "tags": [
     "outputPrepend"
    ]
   },
   "outputs": [
    {
     "output_type": "stream",
     "name": "stdout",
     "text": "40 sec)\nINFO:tensorflow:global_step/sec: 733.361\nINFO:tensorflow:global_step/sec: 733.361\nINFO:tensorflow:loss = 0.005618953, step = 10400 (0.139 sec)\nINFO:tensorflow:loss = 0.005618953, step = 10400 (0.139 sec)\nINFO:tensorflow:global_step/sec: 720.946\nINFO:tensorflow:global_step/sec: 720.946\nINFO:tensorflow:loss = 0.0034036785, step = 10500 (0.138 sec)\nINFO:tensorflow:loss = 0.0034036785, step = 10500 (0.138 sec)\nINFO:tensorflow:global_step/sec: 738.548\nINFO:tensorflow:global_step/sec: 738.548\nINFO:tensorflow:loss = 0.005767776, step = 10600 (0.134 sec)\nINFO:tensorflow:loss = 0.005767776, step = 10600 (0.134 sec)\nINFO:tensorflow:global_step/sec: 732.938\nINFO:tensorflow:global_step/sec: 732.938\nINFO:tensorflow:loss = 0.09222086, step = 10700 (0.135 sec)\nINFO:tensorflow:loss = 0.09222086, step = 10700 (0.135 sec)\nINFO:tensorflow:global_step/sec: 874.714\nINFO:tensorflow:global_step/sec: 874.714\nINFO:tensorflow:loss = 0.19148211, step = 10800 (0.114 sec)\nINFO:tensorflow:loss = 0.19148211, step = 10800 (0.114 sec)\nINFO:tensorflow:global_step/sec: 828.284\nINFO:tensorflow:global_step/sec: 828.284\nINFO:tensorflow:loss = 0.003211682, step = 10900 (0.122 sec)\nINFO:tensorflow:loss = 0.003211682, step = 10900 (0.122 sec)\nINFO:tensorflow:global_step/sec: 863.041\nINFO:tensorflow:global_step/sec: 863.041\nINFO:tensorflow:loss = 0.00010535196, step = 11000 (0.115 sec)\nINFO:tensorflow:loss = 0.00010535196, step = 11000 (0.115 sec)\nINFO:tensorflow:global_step/sec: 826.969\nINFO:tensorflow:global_step/sec: 826.969\nINFO:tensorflow:loss = 0.002863665, step = 11100 (0.124 sec)\nINFO:tensorflow:loss = 0.002863665, step = 11100 (0.124 sec)\nINFO:tensorflow:global_step/sec: 815.581\nINFO:tensorflow:global_step/sec: 815.581\nINFO:tensorflow:loss = 0.00552971, step = 11200 (0.119 sec)\nINFO:tensorflow:loss = 0.00552971, step = 11200 (0.119 sec)\nINFO:tensorflow:global_step/sec: 851.743\nINFO:tensorflow:global_step/sec: 851.743\nINFO:tensorflow:loss = 0.00046053267, step = 11300 (0.117 sec)\nINFO:tensorflow:loss = 0.00046053267, step = 11300 (0.117 sec)\nINFO:tensorflow:global_step/sec: 800.105\nINFO:tensorflow:global_step/sec: 800.105\nINFO:tensorflow:loss = 0.007226952, step = 11400 (0.125 sec)\nINFO:tensorflow:loss = 0.007226952, step = 11400 (0.125 sec)\nINFO:tensorflow:global_step/sec: 624.712\nINFO:tensorflow:global_step/sec: 624.712\nINFO:tensorflow:loss = 0.0031187872, step = 11500 (0.162 sec)\nINFO:tensorflow:loss = 0.0031187872, step = 11500 (0.162 sec)\nINFO:tensorflow:global_step/sec: 861.547\nINFO:tensorflow:global_step/sec: 861.547\nINFO:tensorflow:loss = 0.0043887845, step = 11600 (0.115 sec)\nINFO:tensorflow:loss = 0.0043887845, step = 11600 (0.115 sec)\nINFO:tensorflow:global_step/sec: 709.391\nINFO:tensorflow:global_step/sec: 709.391\nINFO:tensorflow:loss = 0.0024742659, step = 11700 (0.144 sec)\nINFO:tensorflow:loss = 0.0024742659, step = 11700 (0.144 sec)\nINFO:tensorflow:global_step/sec: 852.513\nINFO:tensorflow:global_step/sec: 852.513\nINFO:tensorflow:loss = 0.0023856047, step = 11800 (0.117 sec)\nINFO:tensorflow:loss = 0.0023856047, step = 11800 (0.117 sec)\nINFO:tensorflow:global_step/sec: 880.381\nINFO:tensorflow:global_step/sec: 880.381\nINFO:tensorflow:loss = 0.0032439881, step = 11900 (0.111 sec)\nINFO:tensorflow:loss = 0.0032439881, step = 11900 (0.111 sec)\nINFO:tensorflow:global_step/sec: 861.871\nINFO:tensorflow:global_step/sec: 861.871\nINFO:tensorflow:loss = 8.746155e-05, step = 12000 (0.116 sec)\nINFO:tensorflow:loss = 8.746155e-05, step = 12000 (0.116 sec)\nINFO:tensorflow:global_step/sec: 872.154\nINFO:tensorflow:global_step/sec: 872.154\nINFO:tensorflow:loss = 0.0019681181, step = 12100 (0.115 sec)\nINFO:tensorflow:loss = 0.0019681181, step = 12100 (0.115 sec)\nINFO:tensorflow:global_step/sec: 866.685\nINFO:tensorflow:global_step/sec: 866.685\nINFO:tensorflow:loss = 0.15461816, step = 12200 (0.116 sec)\nINFO:tensorflow:loss = 0.15461816, step = 12200 (0.116 sec)\nINFO:tensorflow:global_step/sec: 834.393\nINFO:tensorflow:global_step/sec: 834.393\nINFO:tensorflow:loss = 0.003996819, step = 12300 (0.119 sec)\nINFO:tensorflow:loss = 0.003996819, step = 12300 (0.119 sec)\nINFO:tensorflow:global_step/sec: 863.093\nINFO:tensorflow:global_step/sec: 863.093\nINFO:tensorflow:loss = 0.027722504, step = 12400 (0.116 sec)\nINFO:tensorflow:loss = 0.027722504, step = 12400 (0.116 sec)\nINFO:tensorflow:global_step/sec: 872.2\nINFO:tensorflow:global_step/sec: 872.2\nINFO:tensorflow:loss = 0.0030123927, step = 12500 (0.115 sec)\nINFO:tensorflow:loss = 0.0030123927, step = 12500 (0.115 sec)\nINFO:tensorflow:global_step/sec: 866.005\nINFO:tensorflow:global_step/sec: 866.005\nINFO:tensorflow:loss = 0.004442029, step = 12600 (0.115 sec)\nINFO:tensorflow:loss = 0.004442029, step = 12600 (0.115 sec)\nINFO:tensorflow:global_step/sec: 882.976\nINFO:tensorflow:global_step/sec: 882.976\nINFO:tensorflow:loss = 0.0021105413, step = 12700 (0.114 sec)\nINFO:tensorflow:loss = 0.0021105413, step = 12700 (0.114 sec)\nINFO:tensorflow:global_step/sec: 896.234\nINFO:tensorflow:global_step/sec: 896.234\nINFO:tensorflow:loss = 0.01747573, step = 12800 (0.115 sec)\nINFO:tensorflow:loss = 0.01747573, step = 12800 (0.115 sec)\nINFO:tensorflow:global_step/sec: 838.036\nINFO:tensorflow:global_step/sec: 838.036\nINFO:tensorflow:loss = 0.0027215441, step = 12900 (0.116 sec)\nINFO:tensorflow:loss = 0.0027215441, step = 12900 (0.116 sec)\nINFO:tensorflow:global_step/sec: 838.405\nINFO:tensorflow:global_step/sec: 838.405\nINFO:tensorflow:loss = 1.7389896e-08, step = 13000 (0.119 sec)\nINFO:tensorflow:loss = 1.7389896e-08, step = 13000 (0.119 sec)\nINFO:tensorflow:global_step/sec: 833.099\nINFO:tensorflow:global_step/sec: 833.099\nINFO:tensorflow:loss = 0.02082205, step = 13100 (0.120 sec)\nINFO:tensorflow:loss = 0.02082205, step = 13100 (0.120 sec)\nINFO:tensorflow:global_step/sec: 808.885\nINFO:tensorflow:global_step/sec: 808.885\nINFO:tensorflow:loss = 0.0034835143, step = 13200 (0.127 sec)\nINFO:tensorflow:loss = 0.0034835143, step = 13200 (0.127 sec)\nINFO:tensorflow:global_step/sec: 870.088\nINFO:tensorflow:global_step/sec: 870.088\nINFO:tensorflow:loss = 0.0034221879, step = 13300 (0.112 sec)\nINFO:tensorflow:loss = 0.0034221879, step = 13300 (0.112 sec)\nINFO:tensorflow:global_step/sec: 858.403\nINFO:tensorflow:global_step/sec: 858.403\nINFO:tensorflow:loss = 0.0016564645, step = 13400 (0.119 sec)\nINFO:tensorflow:loss = 0.0016564645, step = 13400 (0.119 sec)\nINFO:tensorflow:global_step/sec: 866.019\nINFO:tensorflow:global_step/sec: 866.019\nINFO:tensorflow:loss = 0.0016377245, step = 13500 (0.113 sec)\nINFO:tensorflow:loss = 0.0016377245, step = 13500 (0.113 sec)\nINFO:tensorflow:global_step/sec: 833.074\nINFO:tensorflow:global_step/sec: 833.074\nINFO:tensorflow:loss = 1.8368747e-06, step = 13600 (0.123 sec)\nINFO:tensorflow:loss = 1.8368747e-06, step = 13600 (0.123 sec)\nINFO:tensorflow:global_step/sec: 867.973\nINFO:tensorflow:global_step/sec: 867.973\nINFO:tensorflow:loss = 0.0015805712, step = 13700 (0.115 sec)\nINFO:tensorflow:loss = 0.0015805712, step = 13700 (0.115 sec)\nINFO:tensorflow:global_step/sec: 800.319\nINFO:tensorflow:global_step/sec: 800.319\nINFO:tensorflow:loss = 0.0015331762, step = 13800 (0.122 sec)\nINFO:tensorflow:loss = 0.0015331762, step = 13800 (0.122 sec)\nINFO:tensorflow:global_step/sec: 840.333\nINFO:tensorflow:global_step/sec: 840.333\nINFO:tensorflow:loss = 4.236805e-06, step = 13900 (0.119 sec)\nINFO:tensorflow:loss = 4.236805e-06, step = 13900 (0.119 sec)\nINFO:tensorflow:global_step/sec: 861.124\nINFO:tensorflow:global_step/sec: 861.124\nINFO:tensorflow:loss = 0.0014939252, step = 14000 (0.117 sec)\nINFO:tensorflow:loss = 0.0014939252, step = 14000 (0.117 sec)\nINFO:tensorflow:global_step/sec: 836.212\nINFO:tensorflow:global_step/sec: 836.212\nINFO:tensorflow:loss = 0.0029187996, step = 14100 (0.119 sec)\nINFO:tensorflow:loss = 0.0029187996, step = 14100 (0.119 sec)\nINFO:tensorflow:global_step/sec: 845.476\nINFO:tensorflow:global_step/sec: 845.476\nINFO:tensorflow:loss = 0.0020530927, step = 14200 (0.122 sec)\nINFO:tensorflow:loss = 0.0020530927, step = 14200 (0.122 sec)\nINFO:tensorflow:global_step/sec: 806.293\nINFO:tensorflow:global_step/sec: 806.293\nINFO:tensorflow:loss = 0.054694697, step = 14300 (0.120 sec)\nINFO:tensorflow:loss = 0.054694697, step = 14300 (0.120 sec)\nINFO:tensorflow:global_step/sec: 828.31\nINFO:tensorflow:global_step/sec: 828.31\nINFO:tensorflow:loss = 6.253237e-06, step = 14400 (0.121 sec)\nINFO:tensorflow:loss = 6.253237e-06, step = 14400 (0.121 sec)\nINFO:tensorflow:global_step/sec: 867.615\nINFO:tensorflow:global_step/sec: 867.615\nINFO:tensorflow:loss = 3.7611565e-07, step = 14500 (0.115 sec)\nINFO:tensorflow:loss = 3.7611565e-07, step = 14500 (0.115 sec)\nINFO:tensorflow:global_step/sec: 833.579\nINFO:tensorflow:global_step/sec: 833.579\nINFO:tensorflow:loss = 0.0024718128, step = 14600 (0.120 sec)\nINFO:tensorflow:loss = 0.0024718128, step = 14600 (0.120 sec)\nINFO:tensorflow:global_step/sec: 846.107\nINFO:tensorflow:global_step/sec: 846.107\nINFO:tensorflow:loss = 0.06136379, step = 14700 (0.117 sec)\nINFO:tensorflow:loss = 0.06136379, step = 14700 (0.117 sec)\nINFO:tensorflow:global_step/sec: 853.269\nINFO:tensorflow:global_step/sec: 853.269\nINFO:tensorflow:loss = 3.8501415e-07, step = 14800 (0.119 sec)\nINFO:tensorflow:loss = 3.8501415e-07, step = 14800 (0.119 sec)\nINFO:tensorflow:global_step/sec: 868.264\nINFO:tensorflow:global_step/sec: 868.264\nINFO:tensorflow:loss = 0.0012480222, step = 14900 (0.114 sec)\nINFO:tensorflow:loss = 0.0012480222, step = 14900 (0.114 sec)\nINFO:tensorflow:global_step/sec: 772.961\nINFO:tensorflow:global_step/sec: 772.961\nINFO:tensorflow:loss = 1.8053599e-05, step = 15000 (0.129 sec)\nINFO:tensorflow:loss = 1.8053599e-05, step = 15000 (0.129 sec)\nINFO:tensorflow:global_step/sec: 733.624\nINFO:tensorflow:global_step/sec: 733.624\nINFO:tensorflow:loss = 0.0013846088, step = 15100 (0.137 sec)\nINFO:tensorflow:loss = 0.0013846088, step = 15100 (0.137 sec)\nINFO:tensorflow:global_step/sec: 763.897\nINFO:tensorflow:global_step/sec: 763.897\nINFO:tensorflow:loss = 9.3554954e-05, step = 15200 (0.130 sec)\nINFO:tensorflow:loss = 9.3554954e-05, step = 15200 (0.130 sec)\nINFO:tensorflow:global_step/sec: 769.865\nINFO:tensorflow:global_step/sec: 769.865\nINFO:tensorflow:loss = 0.0011833957, step = 15300 (0.130 sec)\nINFO:tensorflow:loss = 0.0011833957, step = 15300 (0.130 sec)\nINFO:tensorflow:global_step/sec: 809.033\nINFO:tensorflow:global_step/sec: 809.033\nINFO:tensorflow:loss = 3.18371e-07, step = 15400 (0.124 sec)\nINFO:tensorflow:loss = 3.18371e-07, step = 15400 (0.124 sec)\nINFO:tensorflow:global_step/sec: 842.037\nINFO:tensorflow:global_step/sec: 842.037\nINFO:tensorflow:loss = 0.0026890975, step = 15500 (0.122 sec)\nINFO:tensorflow:loss = 0.0026890975, step = 15500 (0.122 sec)\nINFO:tensorflow:global_step/sec: 816.98\nINFO:tensorflow:global_step/sec: 816.98\nINFO:tensorflow:loss = 1.0857642e-05, step = 15600 (0.121 sec)\nINFO:tensorflow:loss = 1.0857642e-05, step = 15600 (0.121 sec)\nINFO:tensorflow:global_step/sec: 819.373\nINFO:tensorflow:global_step/sec: 819.373\nINFO:tensorflow:loss = 0.0021300842, step = 15700 (0.121 sec)\nINFO:tensorflow:loss = 0.0021300842, step = 15700 (0.121 sec)\nINFO:tensorflow:global_step/sec: 811.009\nINFO:tensorflow:global_step/sec: 811.009\nINFO:tensorflow:loss = 0.033262324, step = 15800 (0.125 sec)\nINFO:tensorflow:loss = 0.033262324, step = 15800 (0.125 sec)\nINFO:tensorflow:global_step/sec: 849.209\nINFO:tensorflow:global_step/sec: 849.209\nINFO:tensorflow:loss = 0.0010763243, step = 15900 (0.120 sec)\nINFO:tensorflow:loss = 0.0010763243, step = 15900 (0.120 sec)\nINFO:tensorflow:global_step/sec: 812.193\nINFO:tensorflow:global_step/sec: 812.193\nINFO:tensorflow:loss = 7.776084e-05, step = 16000 (0.119 sec)\nINFO:tensorflow:loss = 7.776084e-05, step = 16000 (0.119 sec)\nINFO:tensorflow:global_step/sec: 842.25\nINFO:tensorflow:global_step/sec: 842.25\nINFO:tensorflow:loss = 0.001035254, step = 16100 (0.118 sec)\nINFO:tensorflow:loss = 0.001035254, step = 16100 (0.118 sec)\nINFO:tensorflow:global_step/sec: 848.028\nINFO:tensorflow:global_step/sec: 848.028\nINFO:tensorflow:loss = 0.001023699, step = 16200 (0.118 sec)\nINFO:tensorflow:loss = 0.001023699, step = 16200 (0.118 sec)\nINFO:tensorflow:global_step/sec: 655.286\nINFO:tensorflow:global_step/sec: 655.286\nINFO:tensorflow:loss = 0.03200592, step = 16300 (0.154 sec)\nINFO:tensorflow:loss = 0.03200592, step = 16300 (0.154 sec)\nINFO:tensorflow:global_step/sec: 841.795\nINFO:tensorflow:global_step/sec: 841.795\nINFO:tensorflow:loss = 1.06091775e-05, step = 16400 (0.121 sec)\nINFO:tensorflow:loss = 1.06091775e-05, step = 16400 (0.121 sec)\nINFO:tensorflow:global_step/sec: 841.807\nINFO:tensorflow:global_step/sec: 841.807\nINFO:tensorflow:loss = 0.0005627699, step = 16500 (0.119 sec)\nINFO:tensorflow:loss = 0.0005627699, step = 16500 (0.119 sec)\nINFO:tensorflow:global_step/sec: 854.677\nINFO:tensorflow:global_step/sec: 854.677\nINFO:tensorflow:loss = 7.6019765e-05, step = 16600 (0.115 sec)\nINFO:tensorflow:loss = 7.6019765e-05, step = 16600 (0.115 sec)\nINFO:tensorflow:global_step/sec: 865.59\nINFO:tensorflow:global_step/sec: 865.59\nINFO:tensorflow:loss = 0.0009473516, step = 16700 (0.116 sec)\nINFO:tensorflow:loss = 0.0009473516, step = 16700 (0.116 sec)\nINFO:tensorflow:global_step/sec: 851.012\nINFO:tensorflow:global_step/sec: 851.012\nINFO:tensorflow:loss = 0.0009302207, step = 16800 (0.119 sec)\nINFO:tensorflow:loss = 0.0009302207, step = 16800 (0.119 sec)\nINFO:tensorflow:global_step/sec: 868.956\nINFO:tensorflow:global_step/sec: 868.956\nINFO:tensorflow:loss = 3.8514404e-06, step = 16900 (0.113 sec)\nINFO:tensorflow:loss = 3.8514404e-06, step = 16900 (0.113 sec)\nINFO:tensorflow:global_step/sec: 668.114\nINFO:tensorflow:global_step/sec: 668.114\nINFO:tensorflow:loss = 0.0022354038, step = 17000 (0.149 sec)\nINFO:tensorflow:loss = 0.0022354038, step = 17000 (0.149 sec)\nINFO:tensorflow:global_step/sec: 886.515\nINFO:tensorflow:global_step/sec: 886.515\nINFO:tensorflow:loss = 0.0009041961, step = 17100 (0.112 sec)\nINFO:tensorflow:loss = 0.0009041961, step = 17100 (0.112 sec)\nINFO:tensorflow:global_step/sec: 885.392\nINFO:tensorflow:global_step/sec: 885.392\nINFO:tensorflow:loss = 2.4742567e-05, step = 17200 (0.113 sec)\nINFO:tensorflow:loss = 2.4742567e-05, step = 17200 (0.113 sec)\nINFO:tensorflow:global_step/sec: 921.811\nINFO:tensorflow:global_step/sec: 921.811\nINFO:tensorflow:loss = 0.0016323589, step = 17300 (0.113 sec)\nINFO:tensorflow:loss = 0.0016323589, step = 17300 (0.113 sec)\nINFO:tensorflow:global_step/sec: 815.319\nINFO:tensorflow:global_step/sec: 815.319\nINFO:tensorflow:loss = 0.0441982, step = 17400 (0.119 sec)\nINFO:tensorflow:loss = 0.0441982, step = 17400 (0.119 sec)\nINFO:tensorflow:global_step/sec: 845.329\nINFO:tensorflow:global_step/sec: 845.329\nINFO:tensorflow:loss = 1.984303e-06, step = 17500 (0.119 sec)\nINFO:tensorflow:loss = 1.984303e-06, step = 17500 (0.119 sec)\nINFO:tensorflow:global_step/sec: 903.904\nINFO:tensorflow:global_step/sec: 903.904\nINFO:tensorflow:loss = 3.9452232e-07, step = 17600 (0.113 sec)\nINFO:tensorflow:loss = 3.9452232e-07, step = 17600 (0.113 sec)\nINFO:tensorflow:global_step/sec: 818.6\nINFO:tensorflow:global_step/sec: 818.6\nINFO:tensorflow:loss = 0.003355359, step = 17700 (0.120 sec)\nINFO:tensorflow:loss = 0.003355359, step = 17700 (0.120 sec)\nINFO:tensorflow:global_step/sec: 756.053\nINFO:tensorflow:global_step/sec: 756.053\nINFO:tensorflow:loss = 0.0030562666, step = 17800 (0.133 sec)\nINFO:tensorflow:loss = 0.0030562666, step = 17800 (0.133 sec)\nINFO:tensorflow:global_step/sec: 905.6\nINFO:tensorflow:global_step/sec: 905.6\nINFO:tensorflow:loss = 0.0009180835, step = 17900 (0.112 sec)\nINFO:tensorflow:loss = 0.0009180835, step = 17900 (0.112 sec)\nINFO:tensorflow:global_step/sec: 887.437\nINFO:tensorflow:global_step/sec: 887.437\nINFO:tensorflow:loss = 4.080208e-06, step = 18000 (0.110 sec)\nINFO:tensorflow:loss = 4.080208e-06, step = 18000 (0.110 sec)\nINFO:tensorflow:global_step/sec: 841.626\nINFO:tensorflow:global_step/sec: 841.626\nINFO:tensorflow:loss = 1.5349224e-06, step = 18100 (0.119 sec)\nINFO:tensorflow:loss = 1.5349224e-06, step = 18100 (0.119 sec)\nINFO:tensorflow:global_step/sec: 845.849\nINFO:tensorflow:global_step/sec: 845.849\nINFO:tensorflow:loss = 0.0007857571, step = 18200 (0.121 sec)\nINFO:tensorflow:loss = 0.0007857571, step = 18200 (0.121 sec)\nINFO:tensorflow:global_step/sec: 862.756\nINFO:tensorflow:global_step/sec: 862.756\nINFO:tensorflow:loss = 0.026737262, step = 18300 (0.112 sec)\nINFO:tensorflow:loss = 0.026737262, step = 18300 (0.112 sec)\nINFO:tensorflow:global_step/sec: 869.381\nINFO:tensorflow:global_step/sec: 869.381\nINFO:tensorflow:loss = 5.211146e-05, step = 18400 (0.116 sec)\nINFO:tensorflow:loss = 5.211146e-05, step = 18400 (0.116 sec)\nINFO:tensorflow:global_step/sec: 565.847\nINFO:tensorflow:global_step/sec: 565.847\nINFO:tensorflow:loss = 7.940679e-05, step = 18500 (0.177 sec)\nINFO:tensorflow:loss = 7.940679e-05, step = 18500 (0.177 sec)\nINFO:tensorflow:global_step/sec: 882.088\nINFO:tensorflow:global_step/sec: 882.088\nINFO:tensorflow:loss = 0.00074580265, step = 18600 (0.112 sec)\nINFO:tensorflow:loss = 0.00074580265, step = 18600 (0.112 sec)\nINFO:tensorflow:global_step/sec: 850.177\nINFO:tensorflow:global_step/sec: 850.177\nINFO:tensorflow:loss = 0.0011212946, step = 18700 (0.119 sec)\nINFO:tensorflow:loss = 0.0011212946, step = 18700 (0.119 sec)\nINFO:tensorflow:global_step/sec: 846.97\nINFO:tensorflow:global_step/sec: 846.97\nINFO:tensorflow:loss = 8.2807026e-05, step = 18800 (0.118 sec)\nINFO:tensorflow:loss = 8.2807026e-05, step = 18800 (0.118 sec)\nINFO:tensorflow:global_step/sec: 793.407\nINFO:tensorflow:global_step/sec: 793.407\nINFO:tensorflow:loss = 6.9811085e-06, step = 18900 (0.128 sec)\nINFO:tensorflow:loss = 6.9811085e-06, step = 18900 (0.128 sec)\nINFO:tensorflow:global_step/sec: 756.194\nINFO:tensorflow:global_step/sec: 756.194\nINFO:tensorflow:loss = 0.001173047, step = 19000 (0.131 sec)\nINFO:tensorflow:loss = 0.001173047, step = 19000 (0.131 sec)\nINFO:tensorflow:global_step/sec: 709.124\nINFO:tensorflow:global_step/sec: 709.124\nINFO:tensorflow:loss = 0.000777909, step = 19100 (0.140 sec)\nINFO:tensorflow:loss = 0.000777909, step = 19100 (0.140 sec)\nINFO:tensorflow:global_step/sec: 769.562\nINFO:tensorflow:global_step/sec: 769.562\nINFO:tensorflow:loss = 0.0006879628, step = 19200 (0.133 sec)\nINFO:tensorflow:loss = 0.0006879628, step = 19200 (0.133 sec)\nINFO:tensorflow:global_step/sec: 790.279\nINFO:tensorflow:global_step/sec: 790.279\nINFO:tensorflow:loss = 1.3939483e-12, step = 19300 (0.125 sec)\nINFO:tensorflow:loss = 1.3939483e-12, step = 19300 (0.125 sec)\nINFO:tensorflow:global_step/sec: 685.934\nINFO:tensorflow:global_step/sec: 685.934\nINFO:tensorflow:loss = 0.003747827, step = 19400 (0.145 sec)\nINFO:tensorflow:loss = 0.003747827, step = 19400 (0.145 sec)\nINFO:tensorflow:global_step/sec: 846.6\nINFO:tensorflow:global_step/sec: 846.6\nINFO:tensorflow:loss = 2.0737526e-10, step = 19500 (0.117 sec)\nINFO:tensorflow:loss = 2.0737526e-10, step = 19500 (0.117 sec)\nINFO:tensorflow:global_step/sec: 858.17\nINFO:tensorflow:global_step/sec: 858.17\nINFO:tensorflow:loss = 0.042888705, step = 19600 (0.117 sec)\nINFO:tensorflow:loss = 0.042888705, step = 19600 (0.117 sec)\nINFO:tensorflow:global_step/sec: 837.862\nINFO:tensorflow:global_step/sec: 837.862\nINFO:tensorflow:loss = 0.0008736737, step = 19700 (0.120 sec)\nINFO:tensorflow:loss = 0.0008736737, step = 19700 (0.120 sec)\nINFO:tensorflow:global_step/sec: 802.977\nINFO:tensorflow:global_step/sec: 802.977\nINFO:tensorflow:loss = 9.490471e-09, step = 19800 (0.126 sec)\nINFO:tensorflow:loss = 9.490471e-09, step = 19800 (0.126 sec)\nINFO:tensorflow:global_step/sec: 794.478\nINFO:tensorflow:global_step/sec: 794.478\nINFO:tensorflow:loss = 0.0006406465, step = 19900 (0.124 sec)\nINFO:tensorflow:loss = 0.0006406465, step = 19900 (0.124 sec)\nINFO:tensorflow:Saving checkpoints for 20000 into models/estimator-for-XOR/model.ckpt.\nINFO:tensorflow:Saving checkpoints for 20000 into models/estimator-for-XOR/model.ckpt.\nINFO:tensorflow:Loss for final step: 0.00063276384.\nINFO:tensorflow:Loss for final step: 0.00063276384.\n"
    },
    {
     "output_type": "execute_result",
     "data": {
      "text/plain": "<tensorflow_estimator.python.estimator.estimator.EstimatorV2 at 0x1b6de349f88>"
     },
     "metadata": {},
     "execution_count": 19
    }
   ],
   "source": [
    "num_epochs = 200\n",
    "batch_size = 2\n",
    "steps_per_epoch = np.ceil(len(x_train) / batch_size)\n",
    "\n",
    "my_estimator.train(\n",
    "    input_fn=lambda: train_input_fn(x_train, y_train, batch_size),\n",
    "    steps=num_epochs * steps_per_epoch)"
   ]
  },
  {
   "cell_type": "markdown",
   "metadata": {},
   "source": [
    "## 6. Step 4.2: Evaluate the estimator"
   ]
  },
  {
   "cell_type": "code",
   "execution_count": 20,
   "metadata": {
    "tags": []
   },
   "outputs": [
    {
     "output_type": "stream",
     "name": "stdout",
     "text": "INFO:tensorflow:Calling model_fn.\nINFO:tensorflow:Calling model_fn.\nINFO:tensorflow:Done calling model_fn.\nINFO:tensorflow:Done calling model_fn.\nINFO:tensorflow:Starting evaluation at 2020-07-27T02:25:32Z\nINFO:tensorflow:Starting evaluation at 2020-07-27T02:25:32Z\nINFO:tensorflow:Graph was finalized.\nINFO:tensorflow:Graph was finalized.\nINFO:tensorflow:Restoring parameters from models/estimator-for-XOR/model.ckpt-20000\nINFO:tensorflow:Restoring parameters from models/estimator-for-XOR/model.ckpt-20000\nINFO:tensorflow:Running local_init_op.\nINFO:tensorflow:Running local_init_op.\nINFO:tensorflow:Done running local_init_op.\nINFO:tensorflow:Done running local_init_op.\nINFO:tensorflow:Finished evaluation at 2020-07-27-02:25:32\nINFO:tensorflow:Finished evaluation at 2020-07-27-02:25:32\nINFO:tensorflow:Saving dict for global step 20000: binary_accuracy = 0.96, global_step = 20000, loss = 0.0754489\nINFO:tensorflow:Saving dict for global step 20000: binary_accuracy = 0.96, global_step = 20000, loss = 0.0754489\nINFO:tensorflow:Saving 'checkpoint_path' summary for global step 20000: models/estimator-for-XOR/model.ckpt-20000\nINFO:tensorflow:Saving 'checkpoint_path' summary for global step 20000: models/estimator-for-XOR/model.ckpt-20000\n"
    },
    {
     "output_type": "execute_result",
     "data": {
      "text/plain": "{'binary_accuracy': 0.96, 'loss': 0.0754489, 'global_step': 20000}"
     },
     "metadata": {},
     "execution_count": 20
    }
   ],
   "source": [
    "my_estimator.evaluate(\n",
    "    input_fn=lambda: eval_input_fn(x_valid, y_valid, batch_size))"
   ]
  },
  {
   "cell_type": "code",
   "execution_count": null,
   "metadata": {},
   "outputs": [],
   "source": []
  }
 ]
}